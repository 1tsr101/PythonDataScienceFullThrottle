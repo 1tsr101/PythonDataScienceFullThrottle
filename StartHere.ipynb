{
 "cells": [
  {
   "cell_type": "markdown",
   "metadata": {},
   "source": [
    "&copy; 2019 by Pearson Education, Inc. All Rights Reserved. The content in this notebook is based on the book [**Python for Programmers**](https://amzn.to/2VvdnxE)."
   ]
  },
  {
   "cell_type": "markdown",
   "metadata": {
    "slideshow": {
     "slide_type": "slide"
    }
   },
   "source": [
    "# Python Data Science Full Throttle:<br>Introductory Artificial Intelligence (AI),<br>Big Data and Cloud Case Studies\n",
    "<img alt=\"Python Fundamentals LiveLessons cover\" src=\"./images/course_image.jpg\" width=\"600\"/>\n",
    "\n",
    "**Paul Deitel, CEO  \n",
    "Deitel & Associates, Inc.**  \n",
    "<paul@deitel.com>  \n",
    "www.deitel.com  \n"
   ]
  },
  {
   "cell_type": "markdown",
   "metadata": {},
   "source": [
    "<hr style=\"height:2px; border:none; color:#000; background-color:#000;\">"
   ]
  },
  {
   "cell_type": "markdown",
   "metadata": {},
   "source": [
    "# &nbsp;\n",
    "# &nbsp;\n",
    "# **\"If I have seen further it is by standing on the shoulders of giants.\"** &mdash; Isaac Newton (and others before him)\n",
    "# &nbsp;\n",
    "# &nbsp;"
   ]
  },
  {
   "cell_type": "markdown",
   "metadata": {},
   "source": [
    "<hr style=\"height:2px; border:none; color:#000; background-color:#000;\">"
   ]
  },
  {
   "cell_type": "markdown",
   "metadata": {
    "slideshow": {
     "slide_type": "slide"
    }
   },
   "source": [
    "# Contact Info\n",
    "* **Questions? <paul@deitel.com>**\n",
    "* [Facebook](https://www.deitel.com/DeitelFan)\n",
    "* [Twitter](https://twitter.com/deitel) (@deitel)\n",
    "* [LinkedIn](https://linkedin.com/company/deitel-&-associates)\n",
    "* [YouTube](https://youtube.com/DeitelTV)\n"
   ]
  },
  {
   "cell_type": "markdown",
   "metadata": {},
   "source": [
    "<hr style=\"height:2px; border:none; color:#000; background-color:#000;\">"
   ]
  },
  {
   "cell_type": "markdown",
   "metadata": {
    "slideshow": {
     "slide_type": "slide"
    }
   },
   "source": [
    "# Multitiered Learning Approach\n",
    "* No need to take extensive notes.\n",
    "* [**A video of this presentation will be available here**](https://learning.oreilly.com/live-training/courses/python-full-throttle-with-paul-deitel/0636920274650/) 24 hours after the course."
   ]
  },
  {
   "cell_type": "markdown",
   "metadata": {},
   "source": [
    "<hr style=\"height:2px; border:none; color:#000; background-color:#000;\">"
   ]
  },
  {
   "cell_type": "markdown",
   "metadata": {
    "slideshow": {
     "slide_type": "slide"
    }
   },
   "source": [
    "### Detailed Treatments of This Material \n",
    "Here on Safari\n",
    "* **[_Python Fundamentals_ video training](https://learning.oreilly.com/videos/python-fundamentals/9780135917411)** \n",
    "* **[_Python for Programmers_ e-book](https://learning.oreilly.com/library/view/python-for-programmers/9780135231364/)**\n",
    "    \n",
    "Print books:\n",
    "* [**_Intro to Python for Computer Science and Data Science: Learning to Program with AI, Big Data and the Cloud_**](https://amzn.to/2LiDCmt)\n",
    "* [**_Python for Programmers_**](https://amzn.to/2VvdnxE)"
   ]
  },
  {
   "cell_type": "markdown",
   "metadata": {},
   "source": [
    "<hr style=\"height:2px; border:none; color:#000; background-color:#000;\">"
   ]
  },
  {
   "cell_type": "markdown",
   "metadata": {
    "slideshow": {
     "slide_type": "slide"
    }
   },
   "source": [
    "# [**Python Fundamentals LiveLessons** on Safari Online Learning](https://learning.oreilly.com/videos/python-fundamentals/9780135917411)\n",
    "* 40+ hours (so far) of in-depth presentations on this live training's topics.\n",
    "* **Lessons on deep learning and big data with Hadoop, Spark, NoSQL and IoT are being processed now and will be available soon.**  \n",
    "\n",
    "<a href=\"https://learning.oreilly.com/videos/python-fundamentals/9780135917411\"><img alt=\"Python Fundamentals LiveLessons cover\" src=\"./images/PythonFundamentalsLiveLessons.jpg\" width=\"200\" border=\"1\"/></a>\n"
   ]
  },
  {
   "cell_type": "markdown",
   "metadata": {
    "slideshow": {
     "slide_type": "slide"
    }
   },
   "source": [
    "# [**Python for Programmers** on Safari Online Learning](https://learning.oreilly.com/library/view/python-for-programmers/9780135231364/)\n",
    "* The book on which this course and my **Python Fundamentals LiveLessons** videos are based\n",
    "* Sections in the Jupyter Notebooks correspond to the sections in this book\n",
    "\n",
    "<a href=\"https://amzn.to/2VvdnxE\"><img alt=\"Python for Programmers cover\" src=\"./images/PyFPCover.png\" width=\"200\" border=\"1\"/></a>\n"
   ]
  },
  {
   "cell_type": "markdown",
   "metadata": {
    "slideshow": {
     "slide_type": "slide"
    }
   },
   "source": [
    "# Our Python Textbook for College Courses (1 of 3)\n",
    "* Our inspirations for this book were to \n",
    "    * **introduce AI topics to introductory programming students** \n",
    "    * **motivate higher level programming students to pursue AI-related technologies**\n",
    "\n",
    "<a href=\"https://amzn.to/2LiDCmt\"><img alt=\"Intro to Python for Computer Science and Data Science: Learning to Program with AI, Big Data and the Cloud\" src=\"./images/IntroToPythonCover.png\" width=\"200\" border=\"1\"></a>"
   ]
  },
  {
   "cell_type": "markdown",
   "metadata": {
    "slideshow": {
     "slide_type": "slide"
    }
   },
   "source": [
    "# Our Python Textbook for College Courses (2 of 3)\n",
    "* **College Professors/Instructors** \n",
    "    * View my [previously recorded 45-minute webinar](https://www.pearson.com/us/about/news-events/events/2019/04/intro-to-python-for-computer-science-and-data-science.html) overview of the textbook and our approach to teaching Python, computer science, data science and AI\n",
    "    * [Request an examination copy](https://www.pearson.com/replocator) from your Pearson representative"
   ]
  },
  {
   "cell_type": "markdown",
   "metadata": {
    "slideshow": {
     "slide_type": "slide"
    }
   },
   "source": [
    "# Our Python Textbook for College Courses (3 of 3)\n",
    "* Full color\n",
    "* 880 pages&mdash;240 more than **Python for Programmers**\n",
    "* **Programming fundamentals**, including **program development**\n",
    "* **557 self-check exercises**\n",
    "* **471 end-of-chapter exercises and projects** \n",
    "    * Good for term projects, directed studies, capstone projects and thesis research topics across many fields\n",
    "* [One-Page Table of Contents Architectural Diagram](http://deitel.com/bookresources/IntroToPython/IntroToPythonTOC.pdf)\n",
    "* [Book cover with Reviewer Testimonials](http://deitel.com/bookresources/IntroToPython/IntroToPythonFullCover.pdf)\n",
    "* [Additional Reviewer Testimonials](http://deitel.com/bookresources/IntroToPython/IntroToPythonAdditionalTestimonials.pdf)\n",
    "* [Full Table of Contents](http://deitel.com/bookresources/IntroToPython/IntroToPythonFullTOC.pdf)\n",
    "* [Preface](http://deitel.com/bookresources/IntroToPython/IntroToPythonPreface.pdf)\n",
    "   "
   ]
  },
  {
   "cell_type": "markdown",
   "metadata": {
    "slideshow": {
     "slide_type": "slide"
    }
   },
   "source": [
    "# Rhythm of the Course \n",
    "* **Whirlwind tour** of\n",
    "    * Natural Language Processing\n",
    "    * Data Mining Twitter\n",
    "    * IBM Watson and Cognitive Computing\n",
    "    * Machine Learning (supervised and unsupervised)\n",
    "    * Deep learning\n",
    "    * Big Data with SQL, NoSQL, Hadoop, Spark and IoT\n",
    "* **Lecture only, source-code focused presentation**\n",
    "    * Four lecture segments and 3 breaks\n",
    "    * One 15-minute break in first 3 hours\n",
    "    * 45-minute meal break after approximately 3 hours\n",
    "    * One 15-minute break in last 3 hours"
   ]
  },
  {
   "cell_type": "markdown",
   "metadata": {
    "slideshow": {
     "slide_type": "slide"
    }
   },
   "source": [
    "# Need More Detail?\n",
    "* We **extensively indexed** [**Python for Programmers**](https://learning.oreilly.com/library/view/python-for-programmers/9780135231364/) here on Safari\n",
    "    * Locating a topic in our book will help you locate its video presentation in my [**Python Fundamentals LiveLessons videos**](https://learning.oreilly.com/videos/python-fundamentals/9780135917411)\n",
    "* **Questions** after the course? **<paul@deitel.com>**"
   ]
  },
  {
   "cell_type": "markdown",
   "metadata": {},
   "source": [
    "# Code and Jupyter Notebooks for Today's Presentation\n",
    "* Presenting in **Jupyter Notebooks** \n",
    "* [**Download the notebooks** from my GitHub repository](https://github.com/pdeitel/PythonDataScienceFullThrottle) \n",
    "* Root **`PythonDataScienceFullThrottle`** folder contains this **`StartHere.ipynb`** and **subfolders `ch11`-`ch16`** for the 6 sections of today's presentation\n",
    "    * Each corresponds to lessons in my **Python Fundamentals LiveLessons videos** and chapters in **Python for Programmers**\n",
    "* Each notebook also is **provided as an HTML document** "
   ]
  },
  {
   "cell_type": "markdown",
   "metadata": {},
   "source": [
    "# Note Regarding Code Execution\n",
    "* My goal is to expose you to **many data science and AI topics** in Python\n",
    "* Many of these **require complex software setups** that I can't cover in the course due to time constraints\n",
    "* I've provided **links to detailed setup instructions** in both my **Python Fundamentals LiveLessons videos** and in **Python for Programmers**"
   ]
  },
  {
   "cell_type": "markdown",
   "metadata": {
    "slideshow": {
     "slide_type": "slide"
    }
   },
   "source": [
    "# Python Data Science Full Throttle Table of Contents\n",
    "1. [Natural Language Processing](ch11/Ch11.ipynb) \n",
    "2. [Data Mining Twitter](ch12/Ch12.ipynb) \n",
    "3. [IBM Watson](ch13/Ch13.ipynb) \n",
    "4. [Machine Learning](ch14/Ch14.ipynb)\n",
    "5. [Deep Learning](ch15/Ch15.ipynb) \n",
    "6. [Big Data](ch16/Ch16.ipynb) \n",
    "7. Wrap-Up"
   ]
  },
  {
   "cell_type": "markdown",
   "metadata": {
    "slideshow": {
     "slide_type": "slide"
    }
   },
   "source": [
    "# Wrap-Up\n",
    "### Thank You for Coming!\n",
    "* Please fill out the **course survey**. \n",
    "    * All comments, criticisms and suggestions are welcome.\n",
    "* Like what you saw? **Please send testimonial comments to paul@deitel.com**. We'd love to feature your comments in our marketing for future courses."
   ]
  },
  {
   "cell_type": "markdown",
   "metadata": {
    "slideshow": {
     "slide_type": "slide"
    }
   },
   "source": [
    "# Upcoming Deitel Safari Live Training Courses\n",
    "* August 19: [**Python Full Throttle**](https://learning.oreilly.com/live-training/courses/python-full-throttle-with-paul-deitel/0636920305484/)\n",
    "* August 26: [**Python Data Science Full Throttle: Introductory Artificial Intelligence (AI), Big Data and Cloud Case Studies**, August 26th](https://learning.oreilly.com/live-training/courses/python-data-science-full-throttle-with-paul-deitel-introductory-artificial-intelligence-ai-big-data-and-cloud-case-studies/0636920305996/)\n",
    "* September 10: [**Java Full Throttle**](https://learning.oreilly.com/live-training/courses/java-full-throttle-with-paul-deitel-a-one-day-code-intensive-java-standard-edition-presentation/0636920306030/) \n",
    "* September 16: [**Python Full Throttle**](https://learning.oreilly.com/live-training/courses/python-full-throttle-with-paul-deitel/0636920296157/)\n",
    "* September 24: [**Python Data Science Full Throttle: Introductory Artificial Intelligence (AI), Big Data and Cloud Case Studies**](https://learning.oreilly.com/live-training/courses/python-r-data-science-full-throttle-with-paul-deitel-introductory-artificial-intelligence-ai-big-data-and-cloud-case-studies/0636920296201)\n"
   ]
  },
  {
   "cell_type": "markdown",
   "metadata": {
    "slideshow": {
     "slide_type": "slide"
    }
   },
   "source": [
    "# [**Python Fundamentals LiveLessons** on Safari Online Learning](https://learning.oreilly.com/videos/python-fundamentals/9780135917411)\n",
    "\n",
    "<a href=\"https://learning.oreilly.com/videos/python-fundamentals/9780135917411\"><img alt=\"Python Fundamentals LiveLessons cover\" src=\"./images/PythonFundamentalsLiveLessons.jpg\" width=\"300\" border=\"1\"/></a>\n"
   ]
  },
  {
   "cell_type": "markdown",
   "metadata": {
    "slideshow": {
     "slide_type": "slide"
    }
   },
   "source": [
    "# [**Python for Programmers** on Safari Online Learning](https://learning.oreilly.com/library/view/python-for-programmers/9780135231364/)\n",
    "\n",
    "<a href=\"https://learning.oreilly.com/library/view/python-for-programmers/9780135231364/\"><img alt=\"Python for Programmers cover\" src=\"./images/PyFPCover.png\" width=\"300\" border=\"1\"/></a>\n"
   ]
  },
  {
   "cell_type": "markdown",
   "metadata": {
    "slideshow": {
     "slide_type": "slide"
    }
   },
   "source": [
    "# Our Python Textbook for College Courses\n",
    "<a href=\"https://amzn.to/2LiDCmt\"><img alt=\"Intro to Python for Computer Science and Data Science: Learning to Program with AI, Big Data and the Cloud\" src=\"./images/IntroToPythonCover.png\" width=\"300\" border=\"1\"></a>"
   ]
  },
  {
   "cell_type": "markdown",
   "metadata": {
    "slideshow": {
     "slide_type": "slide"
    }
   },
   "source": [
    "# Contact Info\n",
    "* **Questions? <paul@deitel.com>**\n",
    "* [Facebook](https://www.deitel.com/DeitelFan)\n",
    "* [Twitter](https://twitter.com/deitel) (@deitel)\n",
    "* [LinkedIn](https://linkedin.com/company/deitel-&-associates)\n",
    "* [YouTube](https://youtube.com/DeitelTV)\n"
   ]
  },
  {
   "cell_type": "markdown",
   "metadata": {},
   "source": [
    "&copy; 2019 by Pearson Education, Inc. All Rights Reserved. The content in this notebook is based on the book [**Python for Programmers**](https://amzn.to/2VvdnxE)."
   ]
  }
 ],
 "metadata": {
  "kernelspec": {
   "display_name": "Python 3",
   "language": "python",
   "name": "python3"
  },
  "language_info": {
   "codemirror_mode": {
    "name": "ipython",
    "version": 3
   },
   "file_extension": ".py",
   "mimetype": "text/x-python",
   "name": "python",
   "nbconvert_exporter": "python",
   "pygments_lexer": "ipython3",
   "version": "3.7.3"
  },
  "nbTranslate": {
   "displayLangs": [
    "*"
   ],
   "hotkey": "alt-t",
   "langInMainMenu": true,
   "sourceLang": "en",
   "targetLang": "fr",
   "useGoogleTranslate": true
  }
 },
 "nbformat": 4,
 "nbformat_minor": 4
}
