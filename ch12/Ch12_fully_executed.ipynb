{
 "cells": [
  {
   "cell_type": "markdown",
   "metadata": {},
   "source": [
    "&copy; 2019 by Pearson Education, Inc. All Rights Reserved. The content in this notebook is based on the book [**Python for Programmers**](https://amzn.to/2VvdnxE)."
   ]
  },
  {
   "cell_type": "code",
   "execution_count": 1,
   "metadata": {},
   "outputs": [],
   "source": [
    "# enable high-res images in notebook \n",
    "%config InlineBackend.figure_format = 'retina'"
   ]
  },
  {
   "cell_type": "markdown",
   "metadata": {},
   "source": [
    "# 12. Data Mining Twitter \n",
    "# Objectives\n",
    "* **Data-mine Twitter** with **Tweepy** library\n",
    "* Search **past tweets** with the **Twitter Search API**\n",
    "* Sample the **live tweet stream** with the **Twitter Streaming API**\n",
    "* Tweet object **meta data** \n",
    "* Use **NLP** to **clean and preprocess tweets** for analysis\n",
    "* Perform **sentiment analysis** on tweets\n",
    "* **Spot trends** with **Twitter’s Trends API**\n",
    "* **Map tweets** using **folium** and **OpenStreetMap**"
   ]
  },
  {
   "cell_type": "markdown",
   "metadata": {},
   "source": [
    "<hr style=\"height:2px; border:none; color:#000; background-color:#000;\">"
   ]
  },
  {
   "cell_type": "markdown",
   "metadata": {},
   "source": [
    "# 12.1 Introduction \n",
    "* Popular **big-data source**  \n",
    "* **Data mining** &mdash; searching large collections of data for **insights**\n",
    "* **Sentiment** in tweets can help **make predictions**  \n",
    "    * **Stock prices**\n",
    "    * **Election results**\n",
    "    * Likely **revenues** for a **new movie**\n",
    "    * **Success** of a company’s **marketing campaign**\n",
    "* Spot **faults in competitors’ products** \n",
    "* Spot **trending topics**\n",
    "* **Connect to Twitter** with easy-to-use **Web services**"
   ]
  },
  {
   "cell_type": "markdown",
   "metadata": {},
   "source": [
    "<hr style=\"height:2px; border:none; color:#000; background-color:#000;\">"
   ]
  },
  {
   "cell_type": "markdown",
   "metadata": {},
   "source": [
    "### What Is Twitter? \n",
    "* **Tweets**\n",
    "    * Short messages\n",
    "    * Initially limited to **140 characters**\n",
    "    * Increased in 2017 for most languages to **280 characters**\n",
    "* **Most open social network**&mdash;anyone can generally choose to follow anyone else\n",
    "* Some of the most popular accounts have over **100,000,000 followers**\n",
    "* **Free programmatic access** to a small portion of **last 7 days' tweets**\n",
    "    * Can get **paid access** to larger portions the **all-time tweets database**\n",
    "* [**Hundreds of millions of tweets are sent every day** with many thousands sent per second](http://www.internetlivestats.com/twitter-statistics/)\n",
    "* Can tap into the **live stream** and get up to 1% of live tweets\n",
    "    * **Like “drinking from a fire hose”** "
   ]
  },
  {
   "cell_type": "markdown",
   "metadata": {},
   "source": [
    "<hr style=\"height:2px; border:none; color:#000; background-color:#000;\">"
   ]
  },
  {
   "cell_type": "markdown",
   "metadata": {},
   "source": [
    "# 12.2 Overview of the Twitter APIs \n",
    "* **Web services** are **methods** that you call in the **cloud**\n",
    "* Each **method** has a **web service endpoint** represented by a **URL**\n",
    "* **Caution**: **apps can be brittle**\n",
    "    * Internet connections can be lost, services can change, some services not available everywhere, ... \n",
    "* [Twitter API categories, subcategories and individual methods](https://developer.twitter.com/en/docs/api-reference-index.html)"
   ]
  },
  {
   "cell_type": "markdown",
   "metadata": {},
   "source": [
    "<hr style=\"height:2px; border:none; color:#000; background-color:#000;\">"
   ]
  },
  {
   "cell_type": "markdown",
   "metadata": {},
   "source": [
    "### Rate Limits and Restrictions\n",
    "* Twitter expects developers to **use its services responsibly**\n",
    "* **Understand rate limits** before using any method or you could get **blocked**\n",
    "* Some methods list both **user rate limits** and **app rate limits**\n",
    "    * We use **app rate limits** in the demos\n",
    "    * **User rate limits** for apps in which individuals to log into own Twitter accounts\n",
    "    * [Details on rate limiting](https://developer.twitter.com/en/docs/basics/rate-limiting)\n",
    "    * [Specific rate limits on individual API methods](https://developer.twitter.com/en/docs/basics/rate-limits) — also see each API method’s docs\n",
    "* **Follow Twitter’s rules/regulations or your developer account could be terminated.** \n",
    "\t* [Terms of Service](https://twitter.com/tos), [Developer Agreement](https://developer.twitter.com/en/developer-terms/agreement-and-policy.html), [Developer Policy](https://developer.twitter.com/en/developer-terms/policy.html), [Other restrictions](https://developer.twitter.com/en/developer-terms/more-on-restricted-use-cases)"
   ]
  },
  {
   "cell_type": "markdown",
   "metadata": {},
   "source": [
    "<hr style=\"height:2px; border:none; color:#000; background-color:#000;\">"
   ]
  },
  {
   "cell_type": "markdown",
   "metadata": {},
   "source": [
    "# 12.4 Getting Twitter Credentials—Creating an App \n",
    "* [Apply for a developer account](https://developer.twitter.com/en/apply-for-access) to use the APIs\n",
    "* Must get **credentials** to use Twitter APIs\n",
    "    * Part of the **OAuth 2.0 authentication process**\n",
    "    * **Tweepy handles OAuth 2.0 authentication details for you**\n",
    "* To get credentials, you’ll [**create an app**](https://developer.twitter.com) \n",
    "    * **Each app has separate credentials**\n",
    "    * I present **details on creating apps** in my [**Python Fundamentals LiveLessons videos for Section 12.4**](https://learning.oreilly.com/videos/python-fundamentals/9780135917411/9780135917411-PFLL_Lesson12_04) and [**Python for Programmers Section 12.4**](https://learning.oreilly.com/library/view/Python+for+Programmers,+First+Edition/9780135231364/ch12.xhtml#ch12lev1sec4)"
   ]
  },
  {
   "cell_type": "markdown",
   "metadata": {},
   "source": [
    "<hr style=\"height:2px; border:none; color:#000; background-color:#000;\">"
   ]
  },
  {
   "cell_type": "markdown",
   "metadata": {},
   "source": [
    "# 12.5 What’s in a Tweet? \n",
    "* Twitter API returns **JSON (JavaScript Object Notation)** objects\n",
    "* Text-based, human and computer readable\n",
    "* Like Python **dictionaries**\n",
    "* **JSON object format** &mdash; **all strings in double quotes (\")**\n",
    ">```python\n",
    "{propertyName1: value1, propertyName2: value2}\n",
    "```\n",
    "* **JSON array format (like Python list)**:\n",
    ">```python\n",
    "[value1, value2, value3]\n",
    "```\n",
    "* **Tweepy handles the JSON for you** behind the scenes"
   ]
  },
  {
   "cell_type": "markdown",
   "metadata": {},
   "source": [
    "<hr style=\"height:2px; border:none; color:#000; background-color:#000;\">"
   ]
  },
  {
   "cell_type": "markdown",
   "metadata": {},
   "source": [
    "### Key Properties of a Tweet Object \n",
    "* **Tweet object** contains **metadata**, including\n",
    "    * **text** of the tweet\n",
    "    * **extended tweet** for tweets up to **280 characters**\n",
    "\t* **when** it was created \n",
    "\t* **who** created it,\n",
    "\t* lists of **hashtags**, **URLs**, **`@`-mentions**, **images**, **videos** and more\n",
    "* [Our table of many key **tweet metadata attributes**](https://learning.oreilly.com/library/view/python-for-programmers/9780135231364/ch12.xhtml#ch12lev1sec5)\n",
    "* [Complete list of the tweet object attributes](https://developer.twitter.com/en/docs/tweets/data-dictionary/overview/tweet-object.html)\n",
    "* [General overview of all the JSON objects that Twitter APIs return, and links to the specific object details](https://developer.twitter.com/en/docs/tweets/data-dictionary/overview/intro-to-tweet-json)"
   ]
  },
  {
   "cell_type": "markdown",
   "metadata": {},
   "source": [
    "<hr style=\"height:2px; border:none; color:#000; background-color:#000;\">"
   ]
  },
  {
   "cell_type": "markdown",
   "metadata": {},
   "source": [
    "### Sample Tweet JSON\n",
    "* **Sample JSON** for this tweet from the **`@nasa`** account: \n",
    ">```\n",
    "@NoFear1075 Great question, Anthony! Throughout its seven-year \n",
    "mission, our Parker #SolarProbe spacecraft... https://t.co/xKd6ym8waT'\n",
    "```"
   ]
  },
  {
   "cell_type": "markdown",
   "metadata": {},
   "source": [
    "<hr style=\"height:2px; border:none; color:#000; background-color:#000;\">"
   ]
  },
  {
   "cell_type": "markdown",
   "metadata": {},
   "source": [
    "```python\n",
    "{'created_at': 'Wed Sep 05 18:19:34 +0000 2018',\n",
    " 'id': 1037404890354606082,\n",
    " 'id_str': '1037404890354606082',\n",
    " 'text': '@NoFear1075 Great question, Anthony! Throughout its seven-year \n",
    "          mission, our Parker #SolarProbe spacecraft… https://t.co/xKd6ym8waT',\n",
    " 'truncated': True,\n",
    " 'entities': {'hashtags': [{'text': 'SolarProbe', 'indices': [84, 95]}],\n",
    "    'symbols': [],\n",
    "    'user_mentions': [{'screen_name': 'NoFear1075',\n",
    "        'name': 'Anthony Perrone',\n",
    "        'id': 284339791,\n",
    "        'id_str': '284339791',\n",
    "        'indices': [0, 11]}],\n",
    "    'urls': [{'url': 'https://t.co/xKd6ym8waT',\n",
    "        'expanded_url': 'https://twitter.com/i/web/status/1037404890354606082',\n",
    "        'display_url': 'twitter.com/i/web/status/1…',\n",
    "        'indices': [117, 140]}]},\n",
    " 'source': '<a href=\"http://twitter.com\" rel=\"nofollow\">Twitter Web Client</a>',\n",
    "```"
   ]
  },
  {
   "cell_type": "markdown",
   "metadata": {},
   "source": [
    "```python\n",
    " 'in_reply_to_status_id': 1037390542424956928,\n",
    " 'in_reply_to_status_id_str': '1037390542424956928',\n",
    " 'in_reply_to_user_id': 284339791,\n",
    " 'in_reply_to_user_id_str': '284339791',\n",
    " 'in_reply_to_screen_name': 'NoFear1075',\n",
    " 'user': {'id': 11348282,\n",
    "    'id_str': '11348282',\n",
    "    'name': 'NASA',\n",
    "    'screen_name': 'NASA',\n",
    "    'location': '',\n",
    "    'description': 'Explore the universe and discover our home planet with \n",
    "            @NASA. We usually post in EST (UTC-5)',\n",
    "    'url': 'https://t.co/TcEE6NS8nD',\n",
    "    'entities': {'url': {'urls': [{'url': 'https://t.co/TcEE6NS8nD',\n",
    "            'expanded_url': 'http://www.nasa.gov',\n",
    "            'display_url': 'nasa.gov',\n",
    "            'indices': [0, 23]}]},\n",
    "    'description': {'urls': []}},\n",
    "    'protected': False,\n",
    "    'followers_count': 29486081,\n",
    "    'friends_count': 287,\n",
    "    'listed_count': 91928,\n",
    "    'created_at': 'Wed Dec 19 20:20:32 +0000 2007',\n",
    "    'favourites_count': 3963,\n",
    "    'time_zone': None,\n",
    "    'geo_enabled': False,\n",
    "    'verified': True,\n",
    "    'statuses_count': 53147,\n",
    "    'lang': 'en',\n",
    "```"
   ]
  },
  {
   "cell_type": "markdown",
   "metadata": {},
   "source": [
    "```python\n",
    "    'contributors_enabled': False,\n",
    "    'is_translator': False,\n",
    "    'is_translation_enabled': False,\n",
    "    'profile_background_color': '000000',\n",
    "    'profile_background_image_url': 'http://abs.twimg.com/images/themes/theme1/bg.png',\n",
    "    'profile_background_image_url_https': 'https://abs.twimg.com/images/themes/theme1/bg.png',\n",
    "    'profile_image_url': 'http://pbs.twimg.com/profile_images/188302352/nasalogo_twitter_normal.jpg',\n",
    "    'profile_image_url_https': 'https://pbs.twimg.com/profile_images/188302352/nasalogo_twitter_normal.jpg',\n",
    "    'profile_banner_url': 'https://pbs.twimg.com/profile_banners/11348282/1535145490',\n",
    "    'profile_link_color': '205BA7',\n",
    "    'profile_sidebar_border_color': '000000',\n",
    "    'profile_sidebar_fill_color': 'F3F2F2',\n",
    "    'profile_text_color': '000000',\n",
    "    'profile_use_background_image': True,\n",
    "    'has_extended_profile': True,\n",
    "    'default_profile': False,\n",
    "    'default_profile_image': False,\n",
    "    'following': True,\n",
    "    'follow_request_sent': False,\n",
    "    'notifications': False,\n",
    "    'translator_type': 'regular'},\n",
    " 'geo': None,\n",
    " 'coordinates': None,\n",
    " 'place': None,\n",
    " 'contributors': None,\n",
    " 'is_quote_status': False,\n",
    " 'retweet_count': 7,\n",
    " 'favorite_count': 19,\n",
    " 'favorited': False,\n",
    " 'retweeted': False,\n",
    " 'possibly_sensitive': False,\n",
    " 'lang': 'en'}\n",
    "\n",
    "```"
   ]
  },
  {
   "cell_type": "markdown",
   "metadata": {},
   "source": [
    "<hr style=\"height:2px; border:none; color:#000; background-color:#000;\">"
   ]
  },
  {
   "cell_type": "markdown",
   "metadata": {},
   "source": [
    "# 12.6 Tweepy\n",
    "* [**Tweepy library**](http://www.tweepy.org/)—**one of the most popular Python Twitter clients**\n",
    "> `pip install tweepy>=3.7`\n",
    "* Easy access to Twitter’s capabilities\n",
    "* [Tweepy’s documentation](http://docs.tweepy.org/en/latest/)\n",
    "* One function in `tweetutilities.py` file depends on [**geopy**](https://github.com/geopy/geopy) (used later to **plot tweet locations**)\n",
    ">`conda install -c conda-forge geopy`"
   ]
  },
  {
   "cell_type": "markdown",
   "metadata": {},
   "source": [
    "<hr style=\"height:2px; border:none; color:#000; background-color:#000;\">"
   ]
  },
  {
   "cell_type": "markdown",
   "metadata": {},
   "source": [
    "# 12.7 Authenticating with Twitter Via Tweepy\n",
    "* **Authentication API**—Authenticate with your **Twitter credentials** to use other Twitter APIs\n",
    "* **`keys.py`** must contain your credentials"
   ]
  },
  {
   "cell_type": "code",
   "execution_count": 2,
   "metadata": {},
   "outputs": [],
   "source": [
    "import tweepy"
   ]
  },
  {
   "cell_type": "code",
   "execution_count": 3,
   "metadata": {},
   "outputs": [],
   "source": [
    "import keys  "
   ]
  },
  {
   "cell_type": "code",
   "execution_count": 4,
   "metadata": {},
   "outputs": [],
   "source": [
    "auth = tweepy.OAuthHandler(keys.consumer_key,\n",
    "                           keys.consumer_secret)"
   ]
  },
  {
   "cell_type": "code",
   "execution_count": 5,
   "metadata": {},
   "outputs": [],
   "source": [
    "auth.set_access_token(keys.access_token,\n",
    "                      keys.access_token_secret)"
   ]
  },
  {
   "cell_type": "markdown",
   "metadata": {},
   "source": [
    "<hr style=\"height:2px; border:none; color:#000; background-color:#000;\">"
   ]
  },
  {
   "cell_type": "markdown",
   "metadata": {},
   "source": [
    "### Creating the Tweepy API Object\n",
    "* A **Tweepy `API` object** is your **gateway** to Twitter APIs"
   ]
  },
  {
   "cell_type": "code",
   "execution_count": 6,
   "metadata": {},
   "outputs": [],
   "source": [
    "api = tweepy.API(auth, wait_on_rate_limit=True, \n",
    "                 wait_on_rate_limit_notify=True)"
   ]
  },
  {
   "cell_type": "markdown",
   "metadata": {},
   "source": [
    "* **`auth`** is the **`OAuthHandler`**\n",
    "* **`wait_on_rate_limit=True`** &mdash; **wait 15 minutes** when app reaches an API method’s rate limit\n",
    "    * prevents violations\n",
    "* **`wait_on_rate_limit_notify=True`** &mdash; **display a command-line message** when you hit a rate limit"
   ]
  },
  {
   "cell_type": "markdown",
   "metadata": {},
   "source": [
    "<hr style=\"height:2px; border:none; color:#000; background-color:#000;\">"
   ]
  },
  {
   "cell_type": "markdown",
   "metadata": {},
   "source": [
    "# 12.8 Getting Information About a Twitter Account\n",
    "* **Accounts and Users API**—Access information about an account\n",
    "* `API` object’s **`get_user` method** returns a **`tweepy.models.User` object** for an account"
   ]
  },
  {
   "cell_type": "code",
   "execution_count": 7,
   "metadata": {},
   "outputs": [],
   "source": [
    "nasa = api.get_user('nasa')"
   ]
  },
  {
   "cell_type": "markdown",
   "metadata": {},
   "source": [
    "* Calls the **Twitter API’s [`users/show` method](https://developer.twitter.com/en/docs/accounts-and-users/follow-search-get-users/api-reference/get-users-show)**\n",
    "* **`tweepy.models` classes** correspond to returned **JSON objects**\n",
    "* **`User` class** corresponds to a Twitter [**user object**](https://developer.twitter.com/en/docs/tweets/data-dictionary/overview/user-object)\n",
    "* **`tweepy.models` classes** turn **JSON** into **Tweepy objects** "
   ]
  },
  {
   "cell_type": "markdown",
   "metadata": {},
   "source": [
    "<hr style=\"height:2px; border:none; color:#000; background-color:#000;\">"
   ]
  },
  {
   "cell_type": "markdown",
   "metadata": {},
   "source": [
    "### Getting Basic Account Information for `@nasa`\n",
    "* IDs and twitter handles can be used to **track tweets to, from and about users**"
   ]
  },
  {
   "cell_type": "code",
   "execution_count": 8,
   "metadata": {},
   "outputs": [
    {
     "data": {
      "text/plain": [
       "11348282"
      ]
     },
     "execution_count": 8,
     "metadata": {},
     "output_type": "execute_result"
    }
   ],
   "source": [
    "nasa.id  # account ID created when the user joined Twitter"
   ]
  },
  {
   "cell_type": "code",
   "execution_count": 9,
   "metadata": {},
   "outputs": [
    {
     "data": {
      "text/plain": [
       "'NASA'"
      ]
     },
     "execution_count": 9,
     "metadata": {},
     "output_type": "execute_result"
    }
   ],
   "source": [
    "nasa.screen_name  # user’s Twitter handle"
   ]
  },
  {
   "cell_type": "code",
   "execution_count": 10,
   "metadata": {},
   "outputs": [
    {
     "data": {
      "text/plain": [
       "'Explore the universe and discover our home planet with @NASA. We usually post in EST (UTC-4)'"
      ]
     },
     "execution_count": 10,
     "metadata": {},
     "output_type": "execute_result"
    }
   ],
   "source": [
    "nasa.description  # description from the user’s profile"
   ]
  },
  {
   "cell_type": "markdown",
   "metadata": {},
   "source": [
    "* Lots of additional attributes, like `name`, `description`, `followers_count`, `friends_count`, etc."
   ]
  },
  {
   "cell_type": "markdown",
   "metadata": {},
   "source": [
    "<hr style=\"height:2px; border:none; color:#000; background-color:#000;\">"
   ]
  },
  {
   "cell_type": "markdown",
   "metadata": {},
   "source": [
    "### Getting `@nasa`'s Most Recent Status Update\n",
    "* `User` object’s **`status` property** returns a **`tweepy.models.Status`** object\n",
    "* Corresponds to a Twitter [**tweet object**](https://developer.twitter.com/en/docs/tweets/data-dictionary/overview/tweet-object)"
   ]
  },
  {
   "cell_type": "code",
   "execution_count": 11,
   "metadata": {},
   "outputs": [
    {
     "data": {
      "text/plain": [
       "'It’s the LAST DAY to apply for our #NASASocial event on Jan. 14 at @NASA_Wallops to learn about our mission to stud… https://t.co/1L0b0ScNTF'"
      ]
     },
     "execution_count": 11,
     "metadata": {},
     "output_type": "execute_result"
    }
   ],
   "source": [
    "nasa.status.text  # most recent tweet's text"
   ]
  },
  {
   "cell_type": "markdown",
   "metadata": {},
   "source": [
    "* **...** indicates **truncated** tweet text\n",
    "* **`extended_tweet` property** for tweets between 141 and 280 characters (as of Nov. 2017) \n",
    "* **Retweeting** often results in truncation"
   ]
  },
  {
   "cell_type": "markdown",
   "metadata": {},
   "source": [
    "<hr style=\"height:2px; border:none; color:#000; background-color:#000;\">"
   ]
  },
  {
   "cell_type": "markdown",
   "metadata": {},
   "source": [
    "# 12.9 Introduction to Tweepy Cursors: Getting an Account’s Followers and Friends\n",
    "* Twitter API methods often return collections of objects \n",
    "    * E.g., list of tweets that match specified search criteria \n",
    "* Each method has **maximum number of items returned by one call**\n",
    "    * A **\"page\"** of results\n",
    "* **JSON responses** indicate whether there are **more pages**\n",
    "* A **`Cursor`** handles **paging** \n",
    "    * Invokes a method and **checks for more pages**\n",
    "    * If so, **calls the method again**  \n",
    "    * Continues until there are no more results to process\n",
    "    * If `API` object configured to **wait on rate limits**, **`Cursor`s wait as needed**\n",
    "* [Tweepy `Cursor` tutorial](http://docs.tweepy.org/en/latest/cursor_tutorial.html)"
   ]
  },
  {
   "cell_type": "markdown",
   "metadata": {},
   "source": [
    "<hr style=\"height:2px; border:none; color:#000; background-color:#000;\">"
   ]
  },
  {
   "cell_type": "markdown",
   "metadata": {},
   "source": [
    "## 12.9.1 Determining an Account’s Followers  Via the `API` object’s **`followers` Method**\n",
    "* Calls Twitter’s [**followers/list** method](https://developer.twitter.com/en/docs/accounts-and-users/follow-search-get-users/api-reference/get-followers-list.html)\n",
    "* Returns groups of 20 by default, but can request up to 200 \n",
    "* For demonstration purposes, we’ll grab 10 of NASA’s followers\n",
    "* Can also determine whom an account follows with the **`friends` method**\n",
    "    * Calls the Twitter’s [`friends/list` method](https://developer.twitter.com/en/docs/accounts-and-users/follow-search-get-users/api-reference/get-friends-list) "
   ]
  },
  {
   "cell_type": "markdown",
   "metadata": {},
   "source": [
    "<hr style=\"height:2px; border:none; color:#000; background-color:#000;\">"
   ]
  },
  {
   "cell_type": "markdown",
   "metadata": {},
   "source": [
    "### Creating a Cursor That Will Call the `followers` Method for NASA’s account"
   ]
  },
  {
   "cell_type": "code",
   "execution_count": 12,
   "metadata": {},
   "outputs": [],
   "source": [
    "followers = []  # for storing followers' User objects"
   ]
  },
  {
   "cell_type": "code",
   "execution_count": 13,
   "metadata": {},
   "outputs": [],
   "source": [
    "cursor = tweepy.Cursor(api.followers, screen_name='nasa')"
   ]
  },
  {
   "cell_type": "markdown",
   "metadata": {},
   "source": [
    "* First argument is **name of Tweepy method to call**\n",
    "* Additional keyword arguments are passed to method named in first argument"
   ]
  },
  {
   "cell_type": "markdown",
   "metadata": {},
   "source": [
    "<hr style=\"height:2px; border:none; color:#000; background-color:#000;\">"
   ]
  },
  {
   "cell_type": "markdown",
   "metadata": {},
   "source": [
    "### Get Results from `Cursor` and Display in Ascending Alphabetical Order  \n",
    "* Cursor’s **`items` method** calls `api.followers` and returns the `follower`s method’s results"
   ]
  },
  {
   "cell_type": "code",
   "execution_count": 14,
   "metadata": {},
   "outputs": [],
   "source": [
    "for account in cursor.items(10):  # request only 10 results\n",
    "    followers.append(account.screen_name)"
   ]
  },
  {
   "cell_type": "code",
   "execution_count": 15,
   "metadata": {},
   "outputs": [
    {
     "data": {
      "text/plain": [
       "['samuelG37332111',\n",
       " 'dude725',\n",
       " 'gaocc7',\n",
       " 'DamonKarjala',\n",
       " 'Steph97474569',\n",
       " 'GokulCh99080931',\n",
       " 'Amit22697029',\n",
       " 'suphana56452469',\n",
       " 'ShokoX7',\n",
       " 'bioTianqiZhang']"
      ]
     },
     "execution_count": 15,
     "metadata": {},
     "output_type": "execute_result"
    }
   ],
   "source": [
    "followers"
   ]
  },
  {
   "cell_type": "markdown",
   "metadata": {},
   "source": [
    "<hr style=\"height:2px; border:none; color:#000; background-color:#000;\">"
   ]
  },
  {
   "cell_type": "markdown",
   "metadata": {},
   "source": [
    "### Automatic Paging\n",
    "* To **get up to 200 followers at a time**, create the `Cursor` with the **`count`** keyword argument\n",
    ">```python\n",
    "cursor = tweepy.Cursor(api.followers, screen_name='nasa', count=200)\n",
    "```\n",
    "* Calling `Cursor` method **`items`** with no argument attempts to get **all followers**\n",
    "    * Could **take significant time** due to **rate limits**"
   ]
  },
  {
   "cell_type": "markdown",
   "metadata": {},
   "source": [
    "<hr style=\"height:2px; border:none; color:#000; background-color:#000;\">"
   ]
  },
  {
   "cell_type": "markdown",
   "metadata": {},
   "source": [
    "# 12.10 Searching Recent Tweets with Tweepy `API` method **`search`** \n",
    "* **Tweets API**—Search **past 7 days' tweets**, access **live tweet streams** and more\n",
    "* Returns tweets that **match a query string**\n",
    "* Only for the **previous seven days’ tweets**\n",
    "* **Not guaranteed to return all matching tweets**\n",
    "* Calls Twitter’s **`search/tweets` method**\n",
    "* Returns 15 tweets at a time by default, but can return up to 100"
   ]
  },
  {
   "cell_type": "markdown",
   "metadata": {},
   "source": [
    "<hr style=\"height:2px; border:none; color:#000; background-color:#000;\">"
   ]
  },
  {
   "cell_type": "markdown",
   "metadata": {},
   "source": [
    "### Utility Function `print_tweets` from `tweetutilities.py` "
   ]
  },
  {
   "cell_type": "code",
   "execution_count": 16,
   "metadata": {},
   "outputs": [],
   "source": [
    "from tweetutilities import print_tweets"
   ]
  },
  {
   "cell_type": "markdown",
   "metadata": {},
   "source": [
    "```python\n",
    "def print_tweets(tweets):\n",
    "    \"\"\"For each Tweepy Status object in tweets, display the \n",
    "    user's screen_name and tweet text. If the language is not\n",
    "    English, translate the text with TextBlob.\"\"\"\n",
    "    for tweet in tweets:\n",
    "        print(f'{tweet.screen_name}:', end=' ')\n",
    "    \n",
    "        if 'en' in tweet.lang:\n",
    "            print(f'{tweet.text}\\n')\n",
    "        elif 'und' not in tweet.lang:  # translate to English first\n",
    "            print(f'\\n  ORIGINAL: {tweet.text}')\n",
    "            print(f'TRANSLATED: {TextBlob(tweet.text).translate()}\\n')\n",
    "\n",
    "```"
   ]
  },
  {
   "cell_type": "markdown",
   "metadata": {},
   "source": [
    "<hr style=\"height:2px; border:none; color:#000; background-color:#000;\">"
   ]
  },
  {
   "cell_type": "markdown",
   "metadata": {},
   "source": [
    "### Searching for Specific Words\n",
    "* **`q` keyword argument** specifies the **query string**\n",
    "* Should use **`Cursor`** for more than max results"
   ]
  },
  {
   "cell_type": "code",
   "execution_count": 17,
   "metadata": {},
   "outputs": [],
   "source": [
    "tweets = api.search(q='football', count=3)"
   ]
  },
  {
   "cell_type": "code",
   "execution_count": 18,
   "metadata": {},
   "outputs": [
    {
     "name": "stdout",
     "output_type": "stream",
     "text": [
      "Runfox83: RT @SkySportsPL: Kevin De Bruyne is on 🔥🔥\n",
      "\n",
      "The Belgium international is running rampant and @Arsenal have big problems.\n",
      "\n",
      "📺 Watch on Sky Spo…\n",
      "\n",
      "sgtpelon: RT @C_3C_3: President Trump gets a standing ovation at a football game.\n",
      "\n",
      "Adam Schiff gets screamed at during an event.\n",
      "\n",
      "The people love our…\n",
      "\n",
      "klaher: RT @offtheball: \"Why? Because they have big sponsors who are only queueing up and waiting to get in. They only have to identify them, engag…\n",
      "\n"
     ]
    }
   ],
   "source": [
    "print_tweets(tweets)"
   ]
  },
  {
   "cell_type": "markdown",
   "metadata": {},
   "source": [
    "<hr style=\"height:2px; border:none; color:#000; background-color:#000;\">"
   ]
  },
  {
   "cell_type": "markdown",
   "metadata": {},
   "source": [
    "### Searching with Twitter Search Operators (1 of 2)\n",
    "* Use **Twitter search operators** to refine search results\n",
    "* The following table shows several Twitter search operators. \n",
    "* [For all the operators, click the `operators` link here](https://twitter.com/search-home)\n",
    "* ```python\n",
    "tweets = api.search(q='from:nasa since:2019-11-15', count=3)\n",
    "```\n",
    "\n",
    "| Example&nbsp;&nbsp;&nbsp;&nbsp;&nbsp;&nbsp;&nbsp;&nbsp;&nbsp;&nbsp;&nbsp;&nbsp;&nbsp;&nbsp;&nbsp;&nbsp;&nbsp;&nbsp;&nbsp;&nbsp;&nbsp;&nbsp;&nbsp;&nbsp;&nbsp;&nbsp;&nbsp;&nbsp;&nbsp;&nbsp;&nbsp;&nbsp;&nbsp;&nbsp;&nbsp;&nbsp;&nbsp;&nbsp;\t| Finds tweets containing\n",
    "| :---\t| :---\n",
    "| `python twitter` \t| **Implicit _logical and_ operator**—Finds tweets containing `python` _and_ `twitter`.\n",
    "| `python OR twitter` \t| **Logical `OR` operator**—Finds tweets containing `python` or `twitter` or both.\n",
    "| `python ?` \t| **`?` (question mark)**—Finds tweets asking questions about `python`.\n",
    "| `planets -mars` \t| **`-` (minus sign)**—Finds tweets containing `planets` but not `mars`.\n",
    "| `python :)` \t| **`:)` (happy face)**—Finds **positive sentiment** tweets containing `python`.\n",
    "| `python :(` \t| **`:(` (sad face)**—Finds **negative sentiment** tweets containing `python`.\n",
    "| `since:2018-09-01` \t| **Finds tweets **on or after** the specified date**, which must be in the form **`YYYY-MM-DD`**.\n",
    "| `near:\"New York City\" `\t| **Finds tweets that were sent near `\"New York City\"`**.\n",
    "| `from:nasa` \t| **Finds tweets from the account `@nasa`**.\n",
    "| `to:nasa` \t| **Finds tweets to the account `@nasa`**."
   ]
  },
  {
   "cell_type": "markdown",
   "metadata": {},
   "source": [
    "<hr style=\"height:2px; border:none; color:#000; background-color:#000;\">"
   ]
  },
  {
   "cell_type": "markdown",
   "metadata": {},
   "source": [
    "# 12.11 Spotting Trends: Twitter Trends API\n",
    "* **“Going viral”** &mdash; thousands or millions of people tweeting at once \n",
    "* Twitter maintains a list of **trending topics** worldwide \n",
    "* **Twitter Trends API** can return lists of **trending-topic locations** and the **top 50 trending topics** for each **location**"
   ]
  },
  {
   "cell_type": "markdown",
   "metadata": {},
   "source": [
    "<hr style=\"height:2px; border:none; color:#000; background-color:#000;\">"
   ]
  },
  {
   "cell_type": "markdown",
   "metadata": {},
   "source": [
    "## 12.11.1 Places with Trending Topics (1 of 3)\n",
    "* **Trends API**—**Trending topics by location**\n",
    "* Tweepy `API`’s **`trends_available` method** calls Twitter’s [`trends/available`](https://developer.twitter.com/en/docs/trends/locations-with-trending-topics/api-reference/get-trends-available)  \n",
    "* Returns **list of dictionaries** representing locations "
   ]
  },
  {
   "cell_type": "code",
   "execution_count": 19,
   "metadata": {},
   "outputs": [],
   "source": [
    "trends_available = api.trends_available()"
   ]
  },
  {
   "cell_type": "code",
   "execution_count": 20,
   "metadata": {},
   "outputs": [
    {
     "data": {
      "text/plain": [
       "467"
      ]
     },
     "execution_count": 20,
     "metadata": {},
     "output_type": "execute_result"
    }
   ],
   "source": [
    "len(trends_available)"
   ]
  },
  {
   "cell_type": "markdown",
   "metadata": {},
   "source": [
    "## 12.11.1 Places with Trending Topics (2 of 3)\n",
    "* Each element contains **location’s `name`**, **`woeid`** (**Yahoo! Where on Earth ID**) and more"
   ]
  },
  {
   "cell_type": "code",
   "execution_count": 21,
   "metadata": {},
   "outputs": [
    {
     "data": {
      "text/plain": [
       "{'name': 'Worldwide',\n",
       " 'placeType': {'code': 19, 'name': 'Supername'},\n",
       " 'url': 'http://where.yahooapis.com/v1/place/1',\n",
       " 'parentid': 0,\n",
       " 'country': '',\n",
       " 'woeid': 1,\n",
       " 'countryCode': None}"
      ]
     },
     "execution_count": 21,
     "metadata": {},
     "output_type": "execute_result"
    }
   ],
   "source": [
    "trends_available[0]"
   ]
  },
  {
   "cell_type": "code",
   "execution_count": 22,
   "metadata": {},
   "outputs": [
    {
     "data": {
      "text/plain": [
       "{'name': 'Winnipeg',\n",
       " 'placeType': {'code': 7, 'name': 'Town'},\n",
       " 'url': 'http://where.yahooapis.com/v1/place/2972',\n",
       " 'parentid': 23424775,\n",
       " 'country': 'Canada',\n",
       " 'woeid': 2972,\n",
       " 'countryCode': 'CA'}"
      ]
     },
     "execution_count": 22,
     "metadata": {},
     "output_type": "execute_result"
    }
   ],
   "source": [
    "trends_available[1]"
   ]
  },
  {
   "cell_type": "markdown",
   "metadata": {},
   "source": [
    "<hr style=\"height:2px; border:none; color:#000; background-color:#000;\">"
   ]
  },
  {
   "cell_type": "markdown",
   "metadata": {},
   "source": [
    "## 12.11.1 Places with Trending Topics (3 of 3)\n",
    "* **WOEID 1** represents **worldwide** \n",
    "* **WOEIDs** for several **landmarks**, **cities**, **states** and **continents**\n",
    "\n",
    "| Place | WOEID | \\| &nbsp;&nbsp;&nbsp;Place | WOEID\n",
    "| :---\t| :--- | :---\t| :---\n",
    "| Statue of Liberty | 23617050 | \\|&nbsp;&nbsp;&nbsp;&nbsp;Iguazu Falls| 468785\n",
    "| Washington, D.C.| 2514815 | \\|&nbsp;&nbsp;&nbsp;&nbsp;United States| 23424977\n",
    "| Paris, France| 615702 | \\|&nbsp;&nbsp;&nbsp;&nbsp;Europe| 24865675\n",
    "\n",
    "* Also can search for locations close to a **latitude** and **longitude** via the **Tweepy `API`’s `trends_closest` method**\n",
    "* Calls Twitter's [`trends/closest` method](https://developer.twitter.com/en/docs/trends/locations-with-trending-topics/api-reference/get-trends-closest)"
   ]
  },
  {
   "cell_type": "markdown",
   "metadata": {},
   "source": [
    "<hr style=\"height:2px; border:none; color:#000; background-color:#000;\">"
   ]
  },
  {
   "cell_type": "markdown",
   "metadata": {},
   "source": [
    "## 12.11.2 Getting a List of Trending Topics with the Tweepy `API`’s **`trends_place` Method** \n",
    "* Calls **Twitter Trends API’s [`trends/place` method](https://developer.twitter.com/en/docs/trends/trends-for-location/api-reference/get-trends-place)**\n",
    "* Returns top **50 trending topics for the location**\n",
    "* [Look up WOEIDs](http://www.woeidlookup.com) \n",
    "* Look up WOEID’s programmatically using **Yahoo!’s web services** via [Python libraries like `woeid`](https://github.com/Ray-SunR/woeid)"
   ]
  },
  {
   "cell_type": "markdown",
   "metadata": {},
   "source": [
    "<hr style=\"height:2px; border:none; color:#000; background-color:#000;\">"
   ]
  },
  {
   "cell_type": "markdown",
   "metadata": {},
   "source": [
    "### Get Today's Worldwide Trending Topics (1 of 3)"
   ]
  },
  {
   "cell_type": "code",
   "execution_count": 23,
   "metadata": {},
   "outputs": [],
   "source": [
    "world_trends = api.trends_place(id=1)  # list containing one dictionary"
   ]
  },
  {
   "cell_type": "markdown",
   "metadata": {},
   "source": [
    "* **`'trends'` key** refers to a **list of dictionaries representing each trend**"
   ]
  },
  {
   "cell_type": "code",
   "execution_count": 24,
   "metadata": {},
   "outputs": [],
   "source": [
    "trends_list = world_trends[0]['trends']"
   ]
  },
  {
   "cell_type": "markdown",
   "metadata": {},
   "source": [
    "<hr style=\"height:2px; border:none; color:#000; background-color:#000;\">"
   ]
  },
  {
   "cell_type": "markdown",
   "metadata": {},
   "source": [
    "### Get Today's Worldwide Trending Topics (2 of 3)\n",
    "* Each trend has **`name`**, **`url`**, **`promoted_content`** (whether it's an **advertisement**), **`query`** and **`tweet_volume`** keys"
   ]
  },
  {
   "cell_type": "code",
   "execution_count": 25,
   "metadata": {},
   "outputs": [
    {
     "data": {
      "text/plain": [
       "{'name': '#ARSMCI',\n",
       " 'url': 'http://twitter.com/search?q=%23ARSMCI',\n",
       " 'promoted_content': None,\n",
       " 'query': '%23ARSMCI',\n",
       " 'tweet_volume': 57490}"
      ]
     },
     "execution_count": 25,
     "metadata": {},
     "output_type": "execute_result"
    }
   ],
   "source": [
    "trends_list[0]"
   ]
  },
  {
   "cell_type": "markdown",
   "metadata": {},
   "source": [
    "<hr style=\"height:2px; border:none; color:#000; background-color:#000;\">"
   ]
  },
  {
   "cell_type": "markdown",
   "metadata": {},
   "source": [
    "### Get Today's Worldwide Trending Topics (3 of 3)\n",
    "* For **trends with more than 10,000 tweets**, the **`tweet_volume`** is the **number of tweets**; otherwise, it’s `None`\n",
    "* Filter the list so that it contains only trends with more than 10,000 tweets:"
   ]
  },
  {
   "cell_type": "code",
   "execution_count": 26,
   "metadata": {},
   "outputs": [],
   "source": [
    "trends_list = [t for t in trends_list if t['tweet_volume']]"
   ]
  },
  {
   "cell_type": "code",
   "execution_count": 27,
   "metadata": {},
   "outputs": [],
   "source": [
    "from operator import itemgetter "
   ]
  },
  {
   "cell_type": "code",
   "execution_count": 28,
   "metadata": {},
   "outputs": [],
   "source": [
    "trends_list.sort(key=itemgetter('tweet_volume'), reverse=True) "
   ]
  },
  {
   "cell_type": "code",
   "execution_count": 29,
   "metadata": {},
   "outputs": [
    {
     "name": "stdout",
     "output_type": "stream",
     "text": [
      "#EXOTHEPARTY\n",
      "#เขาวานให้หนูเป็นสายลับep18\n",
      "Delhi Police\n",
      "#JamiaProtest\n",
      "#NowUnitedNaNaNa\n",
      "#anisama\n",
      "#ARSMCI\n",
      "#MUNEVE\n",
      "Anna Karina\n",
      "#あんスタサインプレゼント\n",
      "#ニッポンノワール\n",
      "Greenwood\n",
      "#FelizDomingo\n",
      "#لاجديد_بطلنا_يزيد\n",
      "#AskLauren\n",
      "Kean\n",
      "#JuveUdinese\n",
      "#自殺と打って続きを見守れ\n",
      "#DGSvFB\n",
      "#GetWellSoonHan\n",
      "#乃木坂工事中\n",
      "#consultaciudadana2019\n",
      "Ozan\n",
      "Kruse\n",
      "#MAGAJAW\n",
      "#اوقفو_العبث_بالاتحاد\n",
      "Ali Koç\n",
      "#حاسبوا_المسيء_للعبايه\n",
      "De Gea\n",
      "#日向坂で会いましょう\n",
      "#النفسيه_تصير_حلوه_اذا\n",
      "#HugsForJisung\n"
     ]
    }
   ],
   "source": [
    "for trend in trends_list:  # show top trending topics\n",
    "    print(trend['name'])"
   ]
  },
  {
   "cell_type": "markdown",
   "metadata": {},
   "source": [
    "<hr style=\"height:2px; border:none; color:#000; background-color:#000;\">"
   ]
  },
  {
   "cell_type": "markdown",
   "metadata": {},
   "source": [
    "# 12.12 Cleaning/Preprocessing Tweets for Analysis\n",
    "* **Data cleaning** is one of data scientists' most common tasks \n",
    "* Some **NLP tasks** for **normalizing tweets**\n",
    "    * Converting text to **same case**\n",
    "    * Removing **`#` from hashtags**, **`@`-mentions**, **duplicates**, **hashtags**\n",
    "    * Removing **excess whitespace**, **punctuation**, **stop words**, **URLs**\n",
    "    * Removing tweet keywords **`RT`** (retweet) and **`FAV`** (favorite) \n",
    "    * **Stemming** and **lemmatization**\n",
    "    * **Tokenization**"
   ]
  },
  {
   "cell_type": "markdown",
   "metadata": {},
   "source": [
    "<hr style=\"height:2px; border:none; color:#000; background-color:#000;\">"
   ]
  },
  {
   "cell_type": "markdown",
   "metadata": {},
   "source": [
    "### [**tweet-preprocessor**](https://github.com/s/preprocessor) Library and TextBlob Utility Functions\n",
    "* `pip install tweet-preprocessor`\n",
    "* Can automatically remove any combination of:\n",
    "\n",
    "| Option\t| Option constant\n",
    "| :---\t| :---\n",
    "| **`OPT.MENTION`** | @-Mentions (e.g., `@nasa`)\t\n",
    "| **`OPT.EMOJI`** | Emoji\t\n",
    "| **`OPT.HASHTAG`** | Hashtag (e.g., `#mars`)\t\n",
    "| **`OPT.NUMBER`** | Number\t\n",
    "| **`OPT.RESERVED`** | Reserved Words (`RT` and `FAV`)\t\n",
    "| **`OPT.SMILEY`** | Smiley\t\n",
    "| **`OPT.URL`** | URL\t"
   ]
  },
  {
   "cell_type": "markdown",
   "metadata": {},
   "source": [
    "<hr style=\"height:2px; border:none; color:#000; background-color:#000;\">"
   ]
  },
  {
   "cell_type": "markdown",
   "metadata": {},
   "source": [
    "### Cleaning a Tweet Containing a Reserved Word and a URL\n",
    "* The tweet-preprocessor library’s module name is **`preprocessor`** "
   ]
  },
  {
   "cell_type": "code",
   "execution_count": 30,
   "metadata": {},
   "outputs": [],
   "source": [
    "import preprocessor as p  # p recommended by docs"
   ]
  },
  {
   "cell_type": "code",
   "execution_count": 31,
   "metadata": {},
   "outputs": [],
   "source": [
    "p.set_options(p.OPT.URL, p.OPT.RESERVED)  # specify what to clean"
   ]
  },
  {
   "cell_type": "code",
   "execution_count": 32,
   "metadata": {},
   "outputs": [],
   "source": [
    "tweet_text = 'RT A sample retweet with a URL https://nasa.gov'"
   ]
  },
  {
   "cell_type": "code",
   "execution_count": 33,
   "metadata": {},
   "outputs": [
    {
     "data": {
      "text/plain": [
       "'A sample retweet with a URL'"
      ]
     },
     "execution_count": 33,
     "metadata": {},
     "output_type": "execute_result"
    }
   ],
   "source": [
    "p.clean(tweet_text)"
   ]
  },
  {
   "cell_type": "markdown",
   "metadata": {},
   "source": [
    "<hr style=\"height:2px; border:none; color:#000; background-color:#000;\">"
   ]
  },
  {
   "cell_type": "markdown",
   "metadata": {},
   "source": [
    "# 12.13 Twitter Streaming API\n",
    "* Streams **randomly selected** live tweets up to a **maximum of 1% of the tweets per day**\n",
    "* According to https://InternetLiveStats.com\n",
    "    * **~8500 tweets per second**\n",
    "    * Nearly **750 million tweets per day**\n",
    "* So Streaming API gives you **free access to approximately 7.5 million tweets/day**"
   ]
  },
  {
   "cell_type": "markdown",
   "metadata": {},
   "source": [
    "<hr style=\"height:2px; border:none; color:#000; background-color:#000;\">"
   ]
  },
  {
   "cell_type": "markdown",
   "metadata": {},
   "source": [
    "## 12.13.1 Creating a Subclass of `StreamListener` \n",
    "* A stream **pushes** tweets to your app via a **persistent connection** \n",
    "* **Streaming rate** varies tremendously, based on search criteria\n",
    "* Subclass of Tweepy’s **`StreamListener`** listens for tweets\n",
    "    * **Notified** when each **new tweet** or other **Twitter message** **arrives**\n",
    "    * Each message results in a call to a **`StreamListener` method**\n",
    "    * **Override** only the **methods you need**\n"
   ]
  },
  {
   "cell_type": "markdown",
   "metadata": {},
   "source": [
    "<hr style=\"height:2px; border:none; color:#000; background-color:#000;\">"
   ]
  },
  {
   "cell_type": "markdown",
   "metadata": {},
   "source": [
    "### `StreamListener` Methods\n",
    "* [`StreamListener` methods](https://github.com/tweepy/tweepy/blob/master/tweepy/streaming.py)  \n",
    "\n",
    "| Method&nbsp;&nbsp;&nbsp;&nbsp;&nbsp;&nbsp;&nbsp;&nbsp;&nbsp;&nbsp;&nbsp;&nbsp;&nbsp;&nbsp;&nbsp;&nbsp;&nbsp;&nbsp;&nbsp;&nbsp;&nbsp;&nbsp;&nbsp;&nbsp;&nbsp;&nbsp;&nbsp;&nbsp;&nbsp;&nbsp;&nbsp;&nbsp;&nbsp;&nbsp;&nbsp;&nbsp;&nbsp;&nbsp;&nbsp;&nbsp;&nbsp;&nbsp;&nbsp;&nbsp;&nbsp;&nbsp;&nbsp;&nbsp;&nbsp;&nbsp;&nbsp;&nbsp;&nbsp;&nbsp;&nbsp;&nbsp;&nbsp;&nbsp;| Called when...\n",
    "| :---\t| :---\n",
    "| **`on_connect(self)`** \t| App **successfully connects** to the Twitter stream. This is for statements that should execute only if your app is connected to the stream.\n",
    "| **`on_status(self, status)`** \t| A **tweet arrives**—**`status`** is a Tweepy **`Status`** object.\n",
    "| **`on_data(self, data)`** \t| A **tweet arrives**—**`data`** is the **raw JSON** of a Twitter status (tweet).\n",
    "| **`on_limit(self, track)`** \t| A **limit notice** arrives. This occurs if your search matches more tweets than Twitter can deliver based on its current streaming rate limits. In this case, the limit notice contains the number of matching tweets that could not be delivered.\n",
    "| **`on_error(self, status_code)`** \t| An **error code** arrives. \n",
    "| **`on_timeout(self)`** \t| The **connection times out**—that is, the Twitter server is not responding.\n",
    "| **`on_warning(self, notice)`** \t| **Twitter sends a disconnect warning** to indicate that the connection might be closed. For example, Twitter maintains a queue of the tweets it’s pushing to your app. If the app does not read the tweets fast enough, `on_warning`’s notice argument will contain a warning message indicating that the connection will terminate if the queue becomes full. "
   ]
  },
  {
   "cell_type": "markdown",
   "metadata": {},
   "source": [
    "<hr style=\"height:2px; border:none; color:#000; background-color:#000;\">"
   ]
  },
  {
   "cell_type": "markdown",
   "metadata": {},
   "source": [
    "### Class `TweetListener` Defined in `tweetlistener.py`\n",
    "```python  \n",
    "# tweetlistener.py\n",
    "\"\"\"tweepy.StreamListener subclass that processes tweets as they arrive.\"\"\"\n",
    "import tweepy\n",
    "from textblob import TextBlob\n",
    "\n",
    "class TweetListener(tweepy.StreamListener):\n",
    "    \"\"\"Handles incoming Tweet stream.\"\"\"\n",
    "```"
   ]
  },
  {
   "cell_type": "markdown",
   "metadata": {},
   "source": [
    "```python  \n",
    "    def __init__(self, api, limit=10):\n",
    "        \"\"\"Create instance variables for tracking number of tweets.\"\"\"\n",
    "        self.tweet_count = 0\n",
    "        self.TWEET_LIMIT = limit  # max number of tweets; None for no max\n",
    "        super().__init__(api)  # call superclass's init\n",
    "\n",
    "    def on_connect(self):\n",
    "        \"\"\"Called when your connection attempt is successful, enabling \n",
    "        you to perform appropriate application tasks at that point.\"\"\"\n",
    "        print('Connection successful\\n')\n",
    "```"
   ]
  },
  {
   "cell_type": "markdown",
   "metadata": {},
   "source": [
    "```python  \n",
    "    def on_status(self, status):\n",
    "        \"\"\"Called when Twitter pushes a new tweet to you.\"\"\"\n",
    "        # get the tweet text\n",
    "        try:  \n",
    "            tweet_text = status.extended_tweet[\"full_text\"]\n",
    "        except: \n",
    "            tweet_text = status.text\n",
    "\n",
    "        print(f'Screen name: {status.user.screen_name}:')\n",
    "        print(f'   Language: {status.lang}')\n",
    "        print(f'     Status: {tweet_text}')\n",
    "\n",
    "        if status.lang != 'en' and status.lang != 'und':\n",
    "            print(f' Translated: {TextBlob(tweet_text).translate()}')\n",
    "\n",
    "        print()\n",
    "        self.tweet_count += 1  # track number of tweets processed\n",
    "\n",
    "        # if TWEET_LIMIT is reached, return False to terminate streaming\n",
    "        return self.tweet_count < self.TWEET_LIMIT\n",
    "```"
   ]
  },
  {
   "cell_type": "markdown",
   "metadata": {},
   "source": [
    "<hr style=\"height:2px; border:none; color:#000; background-color:#000;\">"
   ]
  },
  {
   "cell_type": "markdown",
   "metadata": {},
   "source": [
    "## 12.13.2 Initiating Stream Processing\n",
    "\n",
    "### Creating a `TweetListener` Initializing It with the `api` Object"
   ]
  },
  {
   "cell_type": "code",
   "execution_count": 34,
   "metadata": {},
   "outputs": [],
   "source": [
    "from tweetlistener import TweetListener"
   ]
  },
  {
   "cell_type": "code",
   "execution_count": 35,
   "metadata": {},
   "outputs": [],
   "source": [
    "tweet_listener = TweetListener(api, limit=5)"
   ]
  },
  {
   "cell_type": "markdown",
   "metadata": {},
   "source": [
    "<hr style=\"height:2px; border:none; color:#000; background-color:#000;\">"
   ]
  },
  {
   "cell_type": "markdown",
   "metadata": {},
   "source": [
    "### Creating a Tweepy **`Stream`** Object to Manage the Connection to the Twitter Stream\n",
    "* Passes the messages to your `TweetListener` "
   ]
  },
  {
   "cell_type": "code",
   "execution_count": 36,
   "metadata": {},
   "outputs": [],
   "source": [
    "tweet_stream = tweepy.Stream(auth=api.auth, listener=tweet_listener)"
   ]
  },
  {
   "cell_type": "markdown",
   "metadata": {},
   "source": [
    "<hr style=\"height:2px; border:none; color:#000; background-color:#000;\">"
   ]
  },
  {
   "cell_type": "markdown",
   "metadata": {},
   "source": [
    "### Starting the Tweet Stream with the `Stream` Object’s **`filter` Method** \n",
    "* `track` parameter specifies a list of search terms\n",
    "* [Other `filter` method parameters](https://developer.twitter.com/en/docs/tweets/filter-realtime/guides/basic-stream-parameters) for refining your tweet searches\n",
    "* Streaming API returns full tweet **JSON objects** for tweets that match any of the terms, **not just in the tweet’s text, but also in @-mentions, hashtags, expanded URLs and other information**  \n",
    "* Might not see search terms in **tweets' text**"
   ]
  },
  {
   "cell_type": "code",
   "execution_count": 37,
   "metadata": {},
   "outputs": [
    {
     "name": "stdout",
     "output_type": "stream",
     "text": [
      "Connection successful\n",
      "\n",
      "Screen name: ELSpartanews:\n",
      "   Language: en\n",
      "     Status: RT @realDonaldTrump: Incredible young, strong and brilliant people. Army/Navy! https://t.co/I4F8xIxorA\n",
      "\n",
      "Screen name: calvin_winzy:\n",
      "   Language: en\n",
      "     Status: RT @UnitedRedscom: Started the game so well, Lingard with a glorious chance within the first 16 seconds. We were attacking with pace + inte…\n",
      "\n",
      "Screen name: LlcThicc:\n",
      "   Language: en\n",
      "     Status: RT @BenRogers: Dallas Cowboys Football. I’m sure everything will go smoothly today. https://t.co/Dvht1gkoSR\n",
      "\n",
      "Screen name: HardballHardge:\n",
      "   Language: en\n",
      "     Status: RT @TaylorEstes247: Solid reporting by @ChipBrown247, continuing to be ahead of the game! That’s why you sign up to @Horns247! https://t.co…\n",
      "\n",
      "Screen name: Summertime722:\n",
      "   Language: en\n",
      "     Status: RT @realDonaldTrump: Incredible young, strong and brilliant people. Army/Navy! https://t.co/I4F8xIxorA\n",
      "\n"
     ]
    }
   ],
   "source": [
    "tweet_stream.filter(track=['football'])  #, is_async=True) "
   ]
  },
  {
   "cell_type": "markdown",
   "metadata": {},
   "source": [
    "<hr style=\"height:2px; border:none; color:#000; background-color:#000;\">"
   ]
  },
  {
   "cell_type": "markdown",
   "metadata": {},
   "source": [
    "### **Lecture note: Run remaining cells now so we don't have to wait for streamed tweets later.**\n",
    "\n",
    "### Asynchronous vs. Synchronous Streams\n",
    "* **`is_async=True`** &mdash; would initiate an **asynchronous tweet stream** \n",
    "* Without `is_async=True`, the stream is **synchronous** and the next In [] prompt appears **after the stream terminates**    \n",
    "* in Jupyter, we used a **synchronous stream** ensure that all tweets display\n",
    "* In IPython, can terminate an asynchronous tweet stream early:  \n",
    ">`tweet_stream.running=False`    \n"
   ]
  },
  {
   "cell_type": "markdown",
   "metadata": {},
   "source": [
    "<hr style=\"height:2px; border:none; color:#000; background-color:#000;\">"
   ]
  },
  {
   "cell_type": "markdown",
   "metadata": {},
   "source": [
    "# 12.14 Tweet Sentiment Analysis \n",
    "* Political researchers might use to understand **how people are likely to vote**\n",
    "* Companies might use to see what people are saying about **their products** and **competitors’ products**\n",
    "* Script **`sentimentlistener.py`** checks **sentiment** on a specified topic for a specified number of tweets\n",
    "* The script in this example is substantially the same as the previous example, but uses TextBlob to check the sentiment of each tweet as we did in the NLP presentation"
   ]
  },
  {
   "cell_type": "code",
   "execution_count": 38,
   "metadata": {},
   "outputs": [
    {
     "name": "stdout",
     "output_type": "stream",
     "text": [
      "  lil_asssavage: Men in their football Sundays 🙄\n",
      "\n",
      "  nikkosuave_: When you’ve been sore all week from football but you get that “Football?” text in the morning\n",
      "\n",
      "+ USAFightTV: [Official/Football] Bills vs Steelers Live sTreamS -Reddit via @reddit\n",
      "\n",
      "+ fantfoottipster: @FPL_Fly It’s not a threat to football though is it. I’m sure football will still exist even if them two never kick a ball again 🤷‍♂️\n",
      "\n",
      "+ NewsFee82391730: @premierleague Updated Link 1 Watch Arsenal vs Manchester City live stream HD. ❤️👇🏻🔥 Follow for more football updates ❤️ #ARSMCI #MCFC\n",
      "\n",
      "+ Aquessi_Emma: @kalme_Kofi I know my team. The more reason I stopped watching football...\n",
      "\n",
      "+ TimJamesBlandJr: I wish @EA made a PS4 NCAA football 14 verison so I don't have to worry bout switch to my PS3 just hope out with more NCAA games soon to PS4 or ps5\n",
      "\n",
      "  yahboiidrew: When you get to praise God and watch football all in one day 🤩🤩🤩\n",
      "\n",
      "  Wilfred_Diego: @oscar_ffc @FakeLiamWilson @adward152no Football did not begin in 1992.\n",
      "\n",
      "- johnhopkinsgoon: @SimonLester24 I just want solidarity and tough to beat and if that means playing defensive football so be it because i’ve never been so unhappy watching arsenal. It has become a chore recently to watch and that makes me feel sick saying that\n",
      "\n",
      "Tweet sentiment for \"football\"\n",
      "Positive: 5\n",
      " Neutral: 4\n",
      "Negative: 1\n"
     ]
    }
   ],
   "source": [
    "run sentimentlistener.py football 10"
   ]
  },
  {
   "cell_type": "markdown",
   "metadata": {},
   "source": [
    "<hr style=\"height:2px; border:none; color:#000; background-color:#000;\">"
   ]
  },
  {
   "cell_type": "markdown",
   "metadata": {},
   "source": [
    "# 12.15 Geocoding and Mapping\n",
    "* Collect **streaming tweets**, then **plot** their **locations** on an **interactive map**\n",
    "* **Twitter disables precise location info (latitude/longitude) by default** (users must opt in to allowing Twitter to track locations) \n",
    "* Large percentage include the user’s home location information\n",
    "    * Sometimes invalid or fictitious \n",
    "* **Map markers** will show `location` from each tweet’s `User` object"
   ]
  },
  {
   "cell_type": "markdown",
   "metadata": {},
   "source": [
    "<hr style=\"height:2px; border:none; color:#000; background-color:#000;\">"
   ]
  },
  {
   "cell_type": "markdown",
   "metadata": {},
   "source": [
    "### [**geopy** library](https://github.com/geopy/geopy)\n",
    "* **Geocoding**&mdash;translate locations into **latitude** and **longitude**\n",
    "* **geopy** supports dozens of **geocoding web services**, many with **free or lite tiers**\n",
    "* We’ll use **OpenMapQuest geocoding service** "
   ]
  },
  {
   "cell_type": "markdown",
   "metadata": {},
   "source": [
    "<hr style=\"height:2px; border:none; color:#000; background-color:#000;\">"
   ]
  },
  {
   "cell_type": "markdown",
   "metadata": {},
   "source": [
    "### OpenMapQuest Geocoding API (1 of 2)\n",
    "* Convert locations, such as **Boston, MA** into their **latitudes** and **longitudes**, such as **42.3602534** and **-71.0582912**, for plotting on maps\n",
    "* Currently allows **15,000 transactions per month** on their free tier\n",
    "* [Sign up](https://developer.mapquest.com/)\n",
    "* For a presentation of **signing up** and **getting your credentials**, see my [**Python Fundamentals LiveLessons video**](https://learning.oreilly.com/videos/python-fundamentals/9780135917411/9780135917411-PFLL_Lesson12_24) or the [**beginning of Section 12.15 in Python for Programmers**](https://learning.oreilly.com/library/view/python-for-programmers/9780135231364/ch12.xhtml#ch12lev1sec15)"
   ]
  },
  {
   "cell_type": "markdown",
   "metadata": {},
   "source": [
    "<hr style=\"height:2px; border:none; color:#000; background-color:#000;\">"
   ]
  },
  {
   "cell_type": "markdown",
   "metadata": {},
   "source": [
    "### [**folium library**](https://github.com/python-visualization/folium) and Leaflet.js JavaScript Mapping Library\n",
    "* Uses **Leaflet.js JavaScript mapping library** to display maps in a web page \n",
    "* Folium can output **HTML documents** for viewing in a **web browser**\n",
    "* `pip install folium`"
   ]
  },
  {
   "cell_type": "markdown",
   "metadata": {},
   "source": [
    "<hr style=\"height:2px; border:none; color:#000; background-color:#000;\">"
   ]
  },
  {
   "cell_type": "markdown",
   "metadata": {},
   "source": [
    "### Maps from OpenStreetMap.org\n",
    "By default, **Leaflet.js** uses **open source maps** from **`OpenStreetMap.org`**\n",
    "* To use these maps, **they require the following copyright notice**:\n",
    "\n",
    "> `Map data © OpenStreetMap contributors`\n",
    "\n",
    "* They also say: **You must make it clear that the data is available under the Open Database License. This can be achieved by providing a “License” or “Terms” link which links to https://www.openstreetmap.org/copyright or https://www.opendatacommons.org/licenses/odbl/index.html**"
   ]
  },
  {
   "cell_type": "markdown",
   "metadata": {},
   "source": [
    "<!--<hr style=\"height:2px; border:none; color:#000; background-color:#000;\">\n",
    "## 12.15.1 Getting and Mapping the Tweets\n",
    "* We’ll use utility functions from our **`tweetutilities.py`** file and class **`LocationListener`** in **`locationlistener.py`**\n",
    "\n",
    "### Get the Tweepy API Object\n",
    "\n",
    "\n",
    "# from tweetutilities import get_API--commented out because we have the api object from earlier in notebook\n",
    "\n",
    "# api = get_API()  # utility function in tweetutilities.py-->"
   ]
  },
  {
   "cell_type": "markdown",
   "metadata": {},
   "source": [
    "<hr style=\"height:2px; border:none; color:#000; background-color:#000;\">"
   ]
  },
  {
   "cell_type": "markdown",
   "metadata": {},
   "source": [
    "### Collections Required By `LocationListener`\n",
    "* Requires two collections\n",
    "    * A **list (`tweets`)** to store the tweets we collect \n",
    "    * A **dictionary (`counts`)** to track the **total number of tweets** we collect and the **number that have location data**"
   ]
  },
  {
   "cell_type": "code",
   "execution_count": 39,
   "metadata": {},
   "outputs": [],
   "source": [
    "tweets = [] "
   ]
  },
  {
   "cell_type": "code",
   "execution_count": 40,
   "metadata": {},
   "outputs": [],
   "source": [
    "counts = {'total_tweets': 0, 'locations': 0}"
   ]
  },
  {
   "cell_type": "markdown",
   "metadata": {},
   "source": [
    "<hr style=\"height:2px; border:none; color:#000; background-color:#000;\">"
   ]
  },
  {
   "cell_type": "markdown",
   "metadata": {},
   "source": [
    "### Creating the LocationListener "
   ]
  },
  {
   "cell_type": "code",
   "execution_count": 41,
   "metadata": {},
   "outputs": [],
   "source": [
    "from locationlistener import LocationListener"
   ]
  },
  {
   "cell_type": "code",
   "execution_count": 42,
   "metadata": {},
   "outputs": [],
   "source": [
    "location_listener = LocationListener(api, counts_dict=counts, \n",
    "    tweets_list=tweets, topic='football', limit=50)"
   ]
  },
  {
   "cell_type": "markdown",
   "metadata": {},
   "source": [
    "* **`LocationListener`** uses our **utility function `get_tweet_content`** to place each tweets **screen name**, **tweet text** and **location** into a **dictionary**"
   ]
  },
  {
   "cell_type": "markdown",
   "metadata": {},
   "source": [
    "<hr style=\"height:2px; border:none; color:#000; background-color:#000;\">"
   ]
  },
  {
   "cell_type": "markdown",
   "metadata": {},
   "source": [
    "### Configure and Start the `Stream` of Tweets"
   ]
  },
  {
   "cell_type": "code",
   "execution_count": 43,
   "metadata": {},
   "outputs": [],
   "source": [
    "import tweepy"
   ]
  },
  {
   "cell_type": "code",
   "execution_count": 44,
   "metadata": {},
   "outputs": [],
   "source": [
    "stream = tweepy.Stream(auth=api.auth, listener=location_listener)"
   ]
  },
  {
   "cell_type": "code",
   "execution_count": 45,
   "metadata": {},
   "outputs": [
    {
     "name": "stdout",
     "output_type": "stream",
     "text": [
      "ByDylanRossiter: Newtown wins football state championship with a walk-off touchdown on anniversary of Sandy Hook school shooting https://t.co/J3GkhoXoCN\n",
      "\n"
     ]
    }
   ],
   "source": [
    "stream.filter(track=['football'], languages=['en'], is_async=False)"
   ]
  },
  {
   "cell_type": "markdown",
   "metadata": {},
   "source": [
    "<hr style=\"height:2px; border:none; color:#000; background-color:#000;\">"
   ]
  },
  {
   "cell_type": "markdown",
   "metadata": {},
   "source": [
    "### Displaying the Location Statistics "
   ]
  },
  {
   "cell_type": "code",
   "execution_count": 46,
   "metadata": {},
   "outputs": [
    {
     "data": {
      "text/plain": [
       "66"
      ]
     },
     "execution_count": 46,
     "metadata": {},
     "output_type": "execute_result"
    }
   ],
   "source": [
    "counts['total_tweets']"
   ]
  },
  {
   "cell_type": "code",
   "execution_count": 47,
   "metadata": {},
   "outputs": [
    {
     "data": {
      "text/plain": [
       "50"
      ]
     },
     "execution_count": 47,
     "metadata": {},
     "output_type": "execute_result"
    }
   ],
   "source": [
    "counts['locations']"
   ]
  },
  {
   "cell_type": "code",
   "execution_count": 48,
   "metadata": {},
   "outputs": [
    {
     "name": "stdout",
     "output_type": "stream",
     "text": [
      "75.8%\n"
     ]
    }
   ],
   "source": [
    "print(f'{counts[\"locations\"] / counts[\"total_tweets\"]:.1%}')"
   ]
  },
  {
   "cell_type": "markdown",
   "metadata": {},
   "source": [
    "<hr style=\"height:2px; border:none; color:#000; background-color:#000;\">"
   ]
  },
  {
   "cell_type": "markdown",
   "metadata": {},
   "source": [
    "### Geocoding the Locations with Our `get_geocodes` Utility Function \n",
    "* **OpenMapQuest** geocoding service **times out** when it **cannot handle your request immediately**\n",
    "* If so, **`get_geocodes`** **notifies** you, **waits**, then **retries** the request"
   ]
  },
  {
   "cell_type": "code",
   "execution_count": 49,
   "metadata": {},
   "outputs": [],
   "source": [
    "from tweetutilities import get_geocodes"
   ]
  },
  {
   "cell_type": "code",
   "execution_count": 50,
   "metadata": {},
   "outputs": [
    {
     "name": "stdout",
     "output_type": "stream",
     "text": [
      "Getting coordinates for tweet locations...\n",
      "OpenMapQuest service timed out. Waiting.\n",
      "OpenMapQuest service timed out. Waiting.\n",
      "OpenMapQuest service timed out. Waiting.\n",
      "OpenMapQuest service timed out. Waiting.\n",
      "OpenMapQuest service timed out. Waiting.\n",
      "OpenMapQuest service timed out. Waiting.\n",
      "OpenMapQuest service timed out. Waiting.\n",
      "OpenMapQuest service timed out. Waiting.\n",
      "OpenMapQuest service timed out. Waiting.\n",
      "OpenMapQuest service timed out. Waiting.\n",
      "OpenMapQuest service timed out. Waiting.\n",
      "OpenMapQuest service timed out. Waiting.\n",
      "OpenMapQuest service timed out. Waiting.\n",
      "OpenMapQuest service timed out. Waiting.\n",
      "Done geocoding\n"
     ]
    }
   ],
   "source": [
    "bad_locations = get_geocodes(tweets)"
   ]
  },
  {
   "cell_type": "markdown",
   "metadata": {},
   "source": [
    "<hr style=\"height:2px; border:none; color:#000; background-color:#000;\">"
   ]
  },
  {
   "cell_type": "markdown",
   "metadata": {},
   "source": [
    "### Displaying the Bad Location Statistics"
   ]
  },
  {
   "cell_type": "code",
   "execution_count": 51,
   "metadata": {},
   "outputs": [
    {
     "data": {
      "text/plain": [
       "9"
      ]
     },
     "execution_count": 51,
     "metadata": {},
     "output_type": "execute_result"
    }
   ],
   "source": [
    "bad_locations"
   ]
  },
  {
   "cell_type": "code",
   "execution_count": 52,
   "metadata": {},
   "outputs": [
    {
     "name": "stdout",
     "output_type": "stream",
     "text": [
      "18.0%\n"
     ]
    }
   ],
   "source": [
    "print(f'{bad_locations / counts[\"locations\"]:.1%}')"
   ]
  },
  {
   "cell_type": "markdown",
   "metadata": {},
   "source": [
    "<hr style=\"height:2px; border:none; color:#000; background-color:#000;\">"
   ]
  },
  {
   "cell_type": "markdown",
   "metadata": {},
   "source": [
    "### Cleaning the Data with a pandas `DataFrame` Before Displaying the Data on a Map\n",
    "* `DataFrame` will contain **`NaN`** for the **`latitude`** and **`longitude`** of any tweet that **did not have a valid location**\n",
    "* Remove any such via `DataFrame`’s **`dropna` method** "
   ]
  },
  {
   "cell_type": "code",
   "execution_count": 53,
   "metadata": {},
   "outputs": [],
   "source": [
    "import pandas as pd"
   ]
  },
  {
   "cell_type": "code",
   "execution_count": 54,
   "metadata": {},
   "outputs": [],
   "source": [
    "df = pd.DataFrame(tweets)"
   ]
  },
  {
   "cell_type": "code",
   "execution_count": 55,
   "metadata": {},
   "outputs": [
    {
     "data": {
      "text/html": [
       "<div>\n",
       "<style scoped>\n",
       "    .dataframe tbody tr th:only-of-type {\n",
       "        vertical-align: middle;\n",
       "    }\n",
       "\n",
       "    .dataframe tbody tr th {\n",
       "        vertical-align: top;\n",
       "    }\n",
       "\n",
       "    .dataframe thead th {\n",
       "        text-align: right;\n",
       "    }\n",
       "</style>\n",
       "<table border=\"1\" class=\"dataframe\">\n",
       "  <thead>\n",
       "    <tr style=\"text-align: right;\">\n",
       "      <th></th>\n",
       "      <th>latitude</th>\n",
       "      <th>location</th>\n",
       "      <th>longitude</th>\n",
       "      <th>screen_name</th>\n",
       "      <th>text</th>\n",
       "    </tr>\n",
       "  </thead>\n",
       "  <tbody>\n",
       "    <tr>\n",
       "      <th>0</th>\n",
       "      <td>51.507322</td>\n",
       "      <td>London, England</td>\n",
       "      <td>-0.127647</td>\n",
       "      <td>theukdukes</td>\n",
       "      <td>If you're an athlete or coach, and want to imp...</td>\n",
       "    </tr>\n",
       "    <tr>\n",
       "      <th>1</th>\n",
       "      <td>39.783730</td>\n",
       "      <td>United States</td>\n",
       "      <td>-100.445882</td>\n",
       "      <td>USAFightTV</td>\n",
       "      <td>[Official/Football] Eagles vs Redskins Live sT...</td>\n",
       "    </tr>\n",
       "    <tr>\n",
       "      <th>2</th>\n",
       "      <td>55.931967</td>\n",
       "      <td>Edinburgh, Auld Reekie</td>\n",
       "      <td>-3.172884</td>\n",
       "      <td>footballbarber</td>\n",
       "      <td>Banner?\\n\\n'A Football Club will be formed for...</td>\n",
       "    </tr>\n",
       "    <tr>\n",
       "      <th>3</th>\n",
       "      <td>39.783730</td>\n",
       "      <td>United States</td>\n",
       "      <td>-100.445882</td>\n",
       "      <td>USAFightTV</td>\n",
       "      <td>[Official/Football] Texans vs Titans Live sTre...</td>\n",
       "    </tr>\n",
       "    <tr>\n",
       "      <th>4</th>\n",
       "      <td>33.520682</td>\n",
       "      <td>Birmingham, Alabama</td>\n",
       "      <td>-86.802433</td>\n",
       "      <td>ANormalFlame</td>\n",
       "      <td>Congrats Joe Burrow. Coach O is great for @LSU...</td>\n",
       "    </tr>\n",
       "    <tr>\n",
       "      <th>5</th>\n",
       "      <td>36.033173</td>\n",
       "      <td>Las Vegas, Earth</td>\n",
       "      <td>-115.299284</td>\n",
       "      <td>ACESANDALESTENA</td>\n",
       "      <td>@NFL Football Hoppy Hour for all #NFL Games!! ...</td>\n",
       "    </tr>\n",
       "    <tr>\n",
       "      <th>6</th>\n",
       "      <td>39.783730</td>\n",
       "      <td>United States</td>\n",
       "      <td>-100.445882</td>\n",
       "      <td>USAFightTV</td>\n",
       "      <td>[Official/Football] Dolpĥins vs Giants Live sT...</td>\n",
       "    </tr>\n",
       "    <tr>\n",
       "      <th>7</th>\n",
       "      <td>1.357107</td>\n",
       "      <td>Singapore</td>\n",
       "      <td>103.819499</td>\n",
       "      <td>faizalmuhd072</td>\n",
       "      <td>Damn #KDB... I did not know prior to this game...</td>\n",
       "    </tr>\n",
       "    <tr>\n",
       "      <th>8</th>\n",
       "      <td>20.272324</td>\n",
       "      <td>Lagos | PH | FT</td>\n",
       "      <td>100.415179</td>\n",
       "      <td>D_WarEagle</td>\n",
       "      <td>But why Arsenal allow Pepe play this game? The...</td>\n",
       "    </tr>\n",
       "    <tr>\n",
       "      <th>9</th>\n",
       "      <td>6.698081</td>\n",
       "      <td>Kumasi, Ghana</td>\n",
       "      <td>-1.623040</td>\n",
       "      <td>IRESPECTPERSON1</td>\n",
       "      <td>@thenanaaba This woman like football koraa dod...</td>\n",
       "    </tr>\n",
       "    <tr>\n",
       "      <th>10</th>\n",
       "      <td>53.405472</td>\n",
       "      <td>Liverpool, England</td>\n",
       "      <td>-2.980539</td>\n",
       "      <td>bluemac1975</td>\n",
       "      <td>@DockMoore Such a refreshing interview in mode...</td>\n",
       "    </tr>\n",
       "    <tr>\n",
       "      <th>11</th>\n",
       "      <td>35.472989</td>\n",
       "      <td>Oklahoma City, OK</td>\n",
       "      <td>-97.517054</td>\n",
       "      <td>BrewersUnionOK</td>\n",
       "      <td>It's a beautiful day for football, beer and fr...</td>\n",
       "    </tr>\n",
       "    <tr>\n",
       "      <th>12</th>\n",
       "      <td>9.600036</td>\n",
       "      <td>Nigeria</td>\n",
       "      <td>7.999972</td>\n",
       "      <td>cute_posh</td>\n",
       "      <td>@nancygreeny @volqx Extend same energy to WIZK...</td>\n",
       "    </tr>\n",
       "    <tr>\n",
       "      <th>13</th>\n",
       "      <td>39.783730</td>\n",
       "      <td>United States</td>\n",
       "      <td>-100.445882</td>\n",
       "      <td>USAFightTV</td>\n",
       "      <td>[Official/Football] Broncos vs Chiefs Live sTr...</td>\n",
       "    </tr>\n",
       "    <tr>\n",
       "      <th>14</th>\n",
       "      <td>NaN</td>\n",
       "      <td>Global Citizen</td>\n",
       "      <td>NaN</td>\n",
       "      <td>JonnieIledun</td>\n",
       "      <td>This is terrible football from @Arsenal .\\nThe...</td>\n",
       "    </tr>\n",
       "    <tr>\n",
       "      <th>15</th>\n",
       "      <td>55.949563</td>\n",
       "      <td>Edinburgh, Scotland</td>\n",
       "      <td>-3.191497</td>\n",
       "      <td>Alexsherry_</td>\n",
       "      <td>So obv when people r trying to put a shift in ...</td>\n",
       "    </tr>\n",
       "    <tr>\n",
       "      <th>16</th>\n",
       "      <td>NaN</td>\n",
       "      <td>http://bangradiohour.com/</td>\n",
       "      <td>NaN</td>\n",
       "      <td>BangRadioHour</td>\n",
       "      <td>@billhawkinsl @YonderLooky @KwikWarren @WestPo...</td>\n",
       "    </tr>\n",
       "    <tr>\n",
       "      <th>17</th>\n",
       "      <td>NaN</td>\n",
       "      <td>⬆️Above Wait Whats Below⬇️</td>\n",
       "      <td>NaN</td>\n",
       "      <td>MikeKeller71</td>\n",
       "      <td>Games to watch at 1 pm:\\n\\n•Texans vs Titians ...</td>\n",
       "    </tr>\n",
       "    <tr>\n",
       "      <th>18</th>\n",
       "      <td>39.049011</td>\n",
       "      <td>Topeka, KS</td>\n",
       "      <td>-95.677556</td>\n",
       "      <td>bdramsey33</td>\n",
       "      <td>Stellar hire by @TexasFootball. Now we wait fo...</td>\n",
       "    </tr>\n",
       "    <tr>\n",
       "      <th>19</th>\n",
       "      <td>52.707887</td>\n",
       "      <td>Shrewsbury, UK</td>\n",
       "      <td>-2.754009</td>\n",
       "      <td>citizenshed</td>\n",
       "      <td>Is the hatred for City such that they would fo...</td>\n",
       "    </tr>\n",
       "    <tr>\n",
       "      <th>20</th>\n",
       "      <td>34.106676</td>\n",
       "      <td>San Dimas, California</td>\n",
       "      <td>-117.806726</td>\n",
       "      <td>garcia_2810</td>\n",
       "      <td>Football, beers, and wings all day</td>\n",
       "    </tr>\n",
       "    <tr>\n",
       "      <th>21</th>\n",
       "      <td>53.405472</td>\n",
       "      <td>Liverpool, England</td>\n",
       "      <td>-2.980539</td>\n",
       "      <td>thegoon65</td>\n",
       "      <td>Strange don't you think that NOBODY at the clu...</td>\n",
       "    </tr>\n",
       "    <tr>\n",
       "      <th>22</th>\n",
       "      <td>30.086124</td>\n",
       "      <td>G71</td>\n",
       "      <td>31.646095</td>\n",
       "      <td>67_Paddy</td>\n",
       "      <td>@josephtonner67 I can’t speak for pre December...</td>\n",
       "    </tr>\n",
       "    <tr>\n",
       "      <th>23</th>\n",
       "      <td>NaN</td>\n",
       "      <td>🌍</td>\n",
       "      <td>NaN</td>\n",
       "      <td>iamakj_</td>\n",
       "      <td>I love football when they are struggling to sc...</td>\n",
       "    </tr>\n",
       "    <tr>\n",
       "      <th>24</th>\n",
       "      <td>42.886717</td>\n",
       "      <td>Buffalo NY</td>\n",
       "      <td>-78.878392</td>\n",
       "      <td>joemillerwired</td>\n",
       "      <td>@AmazingGrace003 @mltrickey McDermott and Fraz...</td>\n",
       "    </tr>\n",
       "    <tr>\n",
       "      <th>25</th>\n",
       "      <td>NaN</td>\n",
       "      <td>granite state bitch</td>\n",
       "      <td>NaN</td>\n",
       "      <td>robdogg2424</td>\n",
       "      <td>@RALPHsGEEKTIME @RobGronkowski @NFLonFOX @Patr...</td>\n",
       "    </tr>\n",
       "    <tr>\n",
       "      <th>26</th>\n",
       "      <td>9.600036</td>\n",
       "      <td>Nigeria</td>\n",
       "      <td>7.999972</td>\n",
       "      <td>fixed_jeff</td>\n",
       "      <td>*SUPER SUNDAY IS HERE AGAIN*‼️‼️ \\n\\n*are you ...</td>\n",
       "    </tr>\n",
       "    <tr>\n",
       "      <th>27</th>\n",
       "      <td>NaN</td>\n",
       "      <td>Manchester/Ann Arbor/TC, MI</td>\n",
       "      <td>NaN</td>\n",
       "      <td>WStahly20</td>\n",
       "      <td>I’m watching Fantasy Football Now on ESPN2 and...</td>\n",
       "    </tr>\n",
       "    <tr>\n",
       "      <th>28</th>\n",
       "      <td>51.053423</td>\n",
       "      <td>Calgary, Alberta</td>\n",
       "      <td>-114.062589</td>\n",
       "      <td>CraigLoewen</td>\n",
       "      <td>Trying to figure out what to do with Tyler Loc...</td>\n",
       "    </tr>\n",
       "    <tr>\n",
       "      <th>29</th>\n",
       "      <td>40.583456</td>\n",
       "      <td>Staten Island, NY</td>\n",
       "      <td>-74.149605</td>\n",
       "      <td>Donbuck32</td>\n",
       "      <td>$4.80 exacta in 1st at aqueduct time to watch ...</td>\n",
       "    </tr>\n",
       "    <tr>\n",
       "      <th>30</th>\n",
       "      <td>53.479130</td>\n",
       "      <td>Manchester, England</td>\n",
       "      <td>-2.244101</td>\n",
       "      <td>Realist_187</td>\n",
       "      <td>“Go have a look at the book, we’ve got differe...</td>\n",
       "    </tr>\n",
       "    <tr>\n",
       "      <th>31</th>\n",
       "      <td>30.048819</td>\n",
       "      <td>Cairo, Egypt</td>\n",
       "      <td>31.243666</td>\n",
       "      <td>Hatem1886Gooner</td>\n",
       "      <td>Arsenal fans living in London must have a go o...</td>\n",
       "    </tr>\n",
       "    <tr>\n",
       "      <th>32</th>\n",
       "      <td>30.384088</td>\n",
       "      <td>Warrington, FL</td>\n",
       "      <td>-87.274972</td>\n",
       "      <td>sharonlovesjohn</td>\n",
       "      <td>@JohnLegere @Apple @StaneffMatt It was footbal...</td>\n",
       "    </tr>\n",
       "    <tr>\n",
       "      <th>33</th>\n",
       "      <td>NaN</td>\n",
       "      <td>T.O. - ANU - Worldwide</td>\n",
       "      <td>NaN</td>\n",
       "      <td>UptownGooner</td>\n",
       "      <td>You people are fucked...\\n\\nOzil's fault\\nFred...</td>\n",
       "    </tr>\n",
       "    <tr>\n",
       "      <th>34</th>\n",
       "      <td>39.783730</td>\n",
       "      <td>United States</td>\n",
       "      <td>-100.445882</td>\n",
       "      <td>CSNews2019</td>\n",
       "      <td>Sources: Former Giants CB Janoris Jenkins expe...</td>\n",
       "    </tr>\n",
       "    <tr>\n",
       "      <th>35</th>\n",
       "      <td>31.760037</td>\n",
       "      <td>El Paso</td>\n",
       "      <td>-106.487287</td>\n",
       "      <td>TacThaMAC_</td>\n",
       "      <td>Just ran into of my old football coaches from ...</td>\n",
       "    </tr>\n",
       "    <tr>\n",
       "      <th>36</th>\n",
       "      <td>58.099103</td>\n",
       "      <td>Hollywood North</td>\n",
       "      <td>6.727323</td>\n",
       "      <td>cartoon_gurlz</td>\n",
       "      <td>SweetSera @SweetSera333 is DEFINITELY ready fo...</td>\n",
       "    </tr>\n",
       "    <tr>\n",
       "      <th>37</th>\n",
       "      <td>-1.283253</td>\n",
       "      <td>Nairobi, Kenya</td>\n",
       "      <td>36.817245</td>\n",
       "      <td>Fadhilow</td>\n",
       "      <td>The worst first half of football in Arsenal hi...</td>\n",
       "    </tr>\n",
       "    <tr>\n",
       "      <th>38</th>\n",
       "      <td>NaN</td>\n",
       "      <td>Pretoria|Johannesburg</td>\n",
       "      <td>NaN</td>\n",
       "      <td>thatishomoyo_</td>\n",
       "      <td>This guy was in the same class as my brother. ...</td>\n",
       "    </tr>\n",
       "    <tr>\n",
       "      <th>39</th>\n",
       "      <td>6.333059</td>\n",
       "      <td>Benin-City, Nigeria</td>\n",
       "      <td>5.622106</td>\n",
       "      <td>footbazz</td>\n",
       "      <td>K. De Bruyne Goal vs Arsenal In HD | Football ...</td>\n",
       "    </tr>\n",
       "    <tr>\n",
       "      <th>40</th>\n",
       "      <td>39.783730</td>\n",
       "      <td>United States</td>\n",
       "      <td>-100.445882</td>\n",
       "      <td>sn_nfl</td>\n",
       "      <td>Bills vs. Steelers odds, prediction, betting t...</td>\n",
       "    </tr>\n",
       "    <tr>\n",
       "      <th>41</th>\n",
       "      <td>37.323011</td>\n",
       "      <td>Cupertino, CA</td>\n",
       "      <td>-122.032252</td>\n",
       "      <td>Colbybruin</td>\n",
       "      <td>@garywhitta @Arsenal Not just Arsenal. Think a...</td>\n",
       "    </tr>\n",
       "    <tr>\n",
       "      <th>42</th>\n",
       "      <td>NaN</td>\n",
       "      <td>Duval Co. aka Jacksonville, FL</td>\n",
       "      <td>NaN</td>\n",
       "      <td>Da_Don81</td>\n",
       "      <td>@beautiful_indiv Waiting for these football ga...</td>\n",
       "    </tr>\n",
       "    <tr>\n",
       "      <th>43</th>\n",
       "      <td>25.223228</td>\n",
       "      <td>United Kingdom</td>\n",
       "      <td>55.159493</td>\n",
       "      <td>netfooty</td>\n",
       "      <td>⚽🇳🇱 That should win it! Myron Boadu scores for...</td>\n",
       "    </tr>\n",
       "    <tr>\n",
       "      <th>44</th>\n",
       "      <td>57.148228</td>\n",
       "      <td>Aberdeen, Scotland</td>\n",
       "      <td>-2.092678</td>\n",
       "      <td>Annan_rides_out</td>\n",
       "      <td>@caitoz 2) The rot leads to the top. If OPCW i...</td>\n",
       "    </tr>\n",
       "    <tr>\n",
       "      <th>45</th>\n",
       "      <td>27.756767</td>\n",
       "      <td>Florida</td>\n",
       "      <td>-81.463983</td>\n",
       "      <td>MillerStrong12</td>\n",
       "      <td>Football Action today, let's enjoy it Football...</td>\n",
       "    </tr>\n",
       "    <tr>\n",
       "      <th>46</th>\n",
       "      <td>53.405472</td>\n",
       "      <td>Liverpool</td>\n",
       "      <td>-2.980539</td>\n",
       "      <td>willsavillelfc</td>\n",
       "      <td>@SkySportsPL Klopp has been playing his own br...</td>\n",
       "    </tr>\n",
       "    <tr>\n",
       "      <th>47</th>\n",
       "      <td>50.833461</td>\n",
       "      <td>European Tour</td>\n",
       "      <td>4.358837</td>\n",
       "      <td>leetxmlin</td>\n",
       "      <td>How’s Kolasinac more scared of a football then...</td>\n",
       "    </tr>\n",
       "    <tr>\n",
       "      <th>48</th>\n",
       "      <td>39.783730</td>\n",
       "      <td>United States</td>\n",
       "      <td>-100.445882</td>\n",
       "      <td>JoeBucki18</td>\n",
       "      <td>@shickey80 @Brownswave Yes, college football c...</td>\n",
       "    </tr>\n",
       "    <tr>\n",
       "      <th>49</th>\n",
       "      <td>42.344044</td>\n",
       "      <td>ALBANY — BOSTON</td>\n",
       "      <td>-71.062069</td>\n",
       "      <td>ByDylanRossiter</td>\n",
       "      <td>Newtown wins football state championship with ...</td>\n",
       "    </tr>\n",
       "  </tbody>\n",
       "</table>\n",
       "</div>"
      ],
      "text/plain": [
       "     latitude                        location   longitude      screen_name  \\\n",
       "0   51.507322                 London, England   -0.127647       theukdukes   \n",
       "1   39.783730                   United States -100.445882       USAFightTV   \n",
       "2   55.931967          Edinburgh, Auld Reekie   -3.172884   footballbarber   \n",
       "3   39.783730                   United States -100.445882       USAFightTV   \n",
       "4   33.520682             Birmingham, Alabama  -86.802433     ANormalFlame   \n",
       "5   36.033173                Las Vegas, Earth -115.299284  ACESANDALESTENA   \n",
       "6   39.783730                   United States -100.445882       USAFightTV   \n",
       "7    1.357107                       Singapore  103.819499    faizalmuhd072   \n",
       "8   20.272324                Lagos | PH | FT   100.415179       D_WarEagle   \n",
       "9    6.698081                   Kumasi, Ghana   -1.623040  IRESPECTPERSON1   \n",
       "10  53.405472              Liverpool, England   -2.980539      bluemac1975   \n",
       "11  35.472989               Oklahoma City, OK  -97.517054   BrewersUnionOK   \n",
       "12   9.600036                         Nigeria    7.999972        cute_posh   \n",
       "13  39.783730                   United States -100.445882       USAFightTV   \n",
       "14        NaN                  Global Citizen         NaN     JonnieIledun   \n",
       "15  55.949563             Edinburgh, Scotland   -3.191497      Alexsherry_   \n",
       "16        NaN       http://bangradiohour.com/         NaN    BangRadioHour   \n",
       "17        NaN      ⬆️Above Wait Whats Below⬇️         NaN     MikeKeller71   \n",
       "18  39.049011                      Topeka, KS  -95.677556       bdramsey33   \n",
       "19  52.707887                  Shrewsbury, UK   -2.754009      citizenshed   \n",
       "20  34.106676           San Dimas, California -117.806726      garcia_2810   \n",
       "21  53.405472              Liverpool, England   -2.980539        thegoon65   \n",
       "22  30.086124                             G71   31.646095         67_Paddy   \n",
       "23        NaN                              🌍          NaN          iamakj_   \n",
       "24  42.886717                     Buffalo NY   -78.878392   joemillerwired   \n",
       "25        NaN             granite state bitch         NaN      robdogg2424   \n",
       "26   9.600036                         Nigeria    7.999972       fixed_jeff   \n",
       "27        NaN    Manchester/Ann Arbor/TC, MI          NaN        WStahly20   \n",
       "28  51.053423                Calgary, Alberta -114.062589      CraigLoewen   \n",
       "29  40.583456               Staten Island, NY  -74.149605        Donbuck32   \n",
       "30  53.479130             Manchester, England   -2.244101      Realist_187   \n",
       "31  30.048819                    Cairo, Egypt   31.243666  Hatem1886Gooner   \n",
       "32  30.384088                  Warrington, FL  -87.274972  sharonlovesjohn   \n",
       "33        NaN          T.O. - ANU - Worldwide         NaN     UptownGooner   \n",
       "34  39.783730                   United States -100.445882       CSNews2019   \n",
       "35  31.760037                         El Paso -106.487287       TacThaMAC_   \n",
       "36  58.099103                 Hollywood North    6.727323    cartoon_gurlz   \n",
       "37  -1.283253                  Nairobi, Kenya   36.817245         Fadhilow   \n",
       "38        NaN           Pretoria|Johannesburg         NaN    thatishomoyo_   \n",
       "39   6.333059             Benin-City, Nigeria    5.622106         footbazz   \n",
       "40  39.783730                   United States -100.445882           sn_nfl   \n",
       "41  37.323011                   Cupertino, CA -122.032252       Colbybruin   \n",
       "42        NaN  Duval Co. aka Jacksonville, FL         NaN         Da_Don81   \n",
       "43  25.223228                  United Kingdom   55.159493         netfooty   \n",
       "44  57.148228              Aberdeen, Scotland   -2.092678  Annan_rides_out   \n",
       "45  27.756767                         Florida  -81.463983   MillerStrong12   \n",
       "46  53.405472                       Liverpool   -2.980539   willsavillelfc   \n",
       "47  50.833461                   European Tour    4.358837        leetxmlin   \n",
       "48  39.783730                   United States -100.445882       JoeBucki18   \n",
       "49  42.344044                 ALBANY — BOSTON  -71.062069  ByDylanRossiter   \n",
       "\n",
       "                                                 text  \n",
       "0   If you're an athlete or coach, and want to imp...  \n",
       "1   [Official/Football] Eagles vs Redskins Live sT...  \n",
       "2   Banner?\\n\\n'A Football Club will be formed for...  \n",
       "3   [Official/Football] Texans vs Titans Live sTre...  \n",
       "4   Congrats Joe Burrow. Coach O is great for @LSU...  \n",
       "5   @NFL Football Hoppy Hour for all #NFL Games!! ...  \n",
       "6   [Official/Football] Dolpĥins vs Giants Live sT...  \n",
       "7   Damn #KDB... I did not know prior to this game...  \n",
       "8   But why Arsenal allow Pepe play this game? The...  \n",
       "9   @thenanaaba This woman like football koraa dod...  \n",
       "10  @DockMoore Such a refreshing interview in mode...  \n",
       "11  It's a beautiful day for football, beer and fr...  \n",
       "12  @nancygreeny @volqx Extend same energy to WIZK...  \n",
       "13  [Official/Football] Broncos vs Chiefs Live sTr...  \n",
       "14  This is terrible football from @Arsenal .\\nThe...  \n",
       "15  So obv when people r trying to put a shift in ...  \n",
       "16  @billhawkinsl @YonderLooky @KwikWarren @WestPo...  \n",
       "17  Games to watch at 1 pm:\\n\\n•Texans vs Titians ...  \n",
       "18  Stellar hire by @TexasFootball. Now we wait fo...  \n",
       "19  Is the hatred for City such that they would fo...  \n",
       "20                 Football, beers, and wings all day  \n",
       "21  Strange don't you think that NOBODY at the clu...  \n",
       "22  @josephtonner67 I can’t speak for pre December...  \n",
       "23  I love football when they are struggling to sc...  \n",
       "24  @AmazingGrace003 @mltrickey McDermott and Fraz...  \n",
       "25  @RALPHsGEEKTIME @RobGronkowski @NFLonFOX @Patr...  \n",
       "26  *SUPER SUNDAY IS HERE AGAIN*‼️‼️ \\n\\n*are you ...  \n",
       "27  I’m watching Fantasy Football Now on ESPN2 and...  \n",
       "28  Trying to figure out what to do with Tyler Loc...  \n",
       "29  $4.80 exacta in 1st at aqueduct time to watch ...  \n",
       "30  “Go have a look at the book, we’ve got differe...  \n",
       "31  Arsenal fans living in London must have a go o...  \n",
       "32  @JohnLegere @Apple @StaneffMatt It was footbal...  \n",
       "33  You people are fucked...\\n\\nOzil's fault\\nFred...  \n",
       "34  Sources: Former Giants CB Janoris Jenkins expe...  \n",
       "35  Just ran into of my old football coaches from ...  \n",
       "36  SweetSera @SweetSera333 is DEFINITELY ready fo...  \n",
       "37  The worst first half of football in Arsenal hi...  \n",
       "38  This guy was in the same class as my brother. ...  \n",
       "39  K. De Bruyne Goal vs Arsenal In HD | Football ...  \n",
       "40  Bills vs. Steelers odds, prediction, betting t...  \n",
       "41  @garywhitta @Arsenal Not just Arsenal. Think a...  \n",
       "42  @beautiful_indiv Waiting for these football ga...  \n",
       "43  ⚽🇳🇱 That should win it! Myron Boadu scores for...  \n",
       "44  @caitoz 2) The rot leads to the top. If OPCW i...  \n",
       "45  Football Action today, let's enjoy it Football...  \n",
       "46  @SkySportsPL Klopp has been playing his own br...  \n",
       "47  How’s Kolasinac more scared of a football then...  \n",
       "48  @shickey80 @Brownswave Yes, college football c...  \n",
       "49  Newtown wins football state championship with ...  "
      ]
     },
     "execution_count": 55,
     "metadata": {},
     "output_type": "execute_result"
    }
   ],
   "source": [
    "df"
   ]
  },
  {
   "cell_type": "code",
   "execution_count": 56,
   "metadata": {},
   "outputs": [],
   "source": [
    "df = df.dropna()"
   ]
  },
  {
   "cell_type": "code",
   "execution_count": 57,
   "metadata": {},
   "outputs": [
    {
     "data": {
      "text/html": [
       "<div>\n",
       "<style scoped>\n",
       "    .dataframe tbody tr th:only-of-type {\n",
       "        vertical-align: middle;\n",
       "    }\n",
       "\n",
       "    .dataframe tbody tr th {\n",
       "        vertical-align: top;\n",
       "    }\n",
       "\n",
       "    .dataframe thead th {\n",
       "        text-align: right;\n",
       "    }\n",
       "</style>\n",
       "<table border=\"1\" class=\"dataframe\">\n",
       "  <thead>\n",
       "    <tr style=\"text-align: right;\">\n",
       "      <th></th>\n",
       "      <th>latitude</th>\n",
       "      <th>location</th>\n",
       "      <th>longitude</th>\n",
       "      <th>screen_name</th>\n",
       "      <th>text</th>\n",
       "    </tr>\n",
       "  </thead>\n",
       "  <tbody>\n",
       "    <tr>\n",
       "      <th>0</th>\n",
       "      <td>51.507322</td>\n",
       "      <td>London, England</td>\n",
       "      <td>-0.127647</td>\n",
       "      <td>theukdukes</td>\n",
       "      <td>If you're an athlete or coach, and want to imp...</td>\n",
       "    </tr>\n",
       "    <tr>\n",
       "      <th>1</th>\n",
       "      <td>39.783730</td>\n",
       "      <td>United States</td>\n",
       "      <td>-100.445882</td>\n",
       "      <td>USAFightTV</td>\n",
       "      <td>[Official/Football] Eagles vs Redskins Live sT...</td>\n",
       "    </tr>\n",
       "    <tr>\n",
       "      <th>2</th>\n",
       "      <td>55.931967</td>\n",
       "      <td>Edinburgh, Auld Reekie</td>\n",
       "      <td>-3.172884</td>\n",
       "      <td>footballbarber</td>\n",
       "      <td>Banner?\\n\\n'A Football Club will be formed for...</td>\n",
       "    </tr>\n",
       "    <tr>\n",
       "      <th>3</th>\n",
       "      <td>39.783730</td>\n",
       "      <td>United States</td>\n",
       "      <td>-100.445882</td>\n",
       "      <td>USAFightTV</td>\n",
       "      <td>[Official/Football] Texans vs Titans Live sTre...</td>\n",
       "    </tr>\n",
       "    <tr>\n",
       "      <th>4</th>\n",
       "      <td>33.520682</td>\n",
       "      <td>Birmingham, Alabama</td>\n",
       "      <td>-86.802433</td>\n",
       "      <td>ANormalFlame</td>\n",
       "      <td>Congrats Joe Burrow. Coach O is great for @LSU...</td>\n",
       "    </tr>\n",
       "    <tr>\n",
       "      <th>5</th>\n",
       "      <td>36.033173</td>\n",
       "      <td>Las Vegas, Earth</td>\n",
       "      <td>-115.299284</td>\n",
       "      <td>ACESANDALESTENA</td>\n",
       "      <td>@NFL Football Hoppy Hour for all #NFL Games!! ...</td>\n",
       "    </tr>\n",
       "    <tr>\n",
       "      <th>6</th>\n",
       "      <td>39.783730</td>\n",
       "      <td>United States</td>\n",
       "      <td>-100.445882</td>\n",
       "      <td>USAFightTV</td>\n",
       "      <td>[Official/Football] Dolpĥins vs Giants Live sT...</td>\n",
       "    </tr>\n",
       "    <tr>\n",
       "      <th>7</th>\n",
       "      <td>1.357107</td>\n",
       "      <td>Singapore</td>\n",
       "      <td>103.819499</td>\n",
       "      <td>faizalmuhd072</td>\n",
       "      <td>Damn #KDB... I did not know prior to this game...</td>\n",
       "    </tr>\n",
       "    <tr>\n",
       "      <th>8</th>\n",
       "      <td>20.272324</td>\n",
       "      <td>Lagos | PH | FT</td>\n",
       "      <td>100.415179</td>\n",
       "      <td>D_WarEagle</td>\n",
       "      <td>But why Arsenal allow Pepe play this game? The...</td>\n",
       "    </tr>\n",
       "    <tr>\n",
       "      <th>9</th>\n",
       "      <td>6.698081</td>\n",
       "      <td>Kumasi, Ghana</td>\n",
       "      <td>-1.623040</td>\n",
       "      <td>IRESPECTPERSON1</td>\n",
       "      <td>@thenanaaba This woman like football koraa dod...</td>\n",
       "    </tr>\n",
       "    <tr>\n",
       "      <th>10</th>\n",
       "      <td>53.405472</td>\n",
       "      <td>Liverpool, England</td>\n",
       "      <td>-2.980539</td>\n",
       "      <td>bluemac1975</td>\n",
       "      <td>@DockMoore Such a refreshing interview in mode...</td>\n",
       "    </tr>\n",
       "    <tr>\n",
       "      <th>11</th>\n",
       "      <td>35.472989</td>\n",
       "      <td>Oklahoma City, OK</td>\n",
       "      <td>-97.517054</td>\n",
       "      <td>BrewersUnionOK</td>\n",
       "      <td>It's a beautiful day for football, beer and fr...</td>\n",
       "    </tr>\n",
       "    <tr>\n",
       "      <th>12</th>\n",
       "      <td>9.600036</td>\n",
       "      <td>Nigeria</td>\n",
       "      <td>7.999972</td>\n",
       "      <td>cute_posh</td>\n",
       "      <td>@nancygreeny @volqx Extend same energy to WIZK...</td>\n",
       "    </tr>\n",
       "    <tr>\n",
       "      <th>13</th>\n",
       "      <td>39.783730</td>\n",
       "      <td>United States</td>\n",
       "      <td>-100.445882</td>\n",
       "      <td>USAFightTV</td>\n",
       "      <td>[Official/Football] Broncos vs Chiefs Live sTr...</td>\n",
       "    </tr>\n",
       "    <tr>\n",
       "      <th>15</th>\n",
       "      <td>55.949563</td>\n",
       "      <td>Edinburgh, Scotland</td>\n",
       "      <td>-3.191497</td>\n",
       "      <td>Alexsherry_</td>\n",
       "      <td>So obv when people r trying to put a shift in ...</td>\n",
       "    </tr>\n",
       "    <tr>\n",
       "      <th>18</th>\n",
       "      <td>39.049011</td>\n",
       "      <td>Topeka, KS</td>\n",
       "      <td>-95.677556</td>\n",
       "      <td>bdramsey33</td>\n",
       "      <td>Stellar hire by @TexasFootball. Now we wait fo...</td>\n",
       "    </tr>\n",
       "    <tr>\n",
       "      <th>19</th>\n",
       "      <td>52.707887</td>\n",
       "      <td>Shrewsbury, UK</td>\n",
       "      <td>-2.754009</td>\n",
       "      <td>citizenshed</td>\n",
       "      <td>Is the hatred for City such that they would fo...</td>\n",
       "    </tr>\n",
       "    <tr>\n",
       "      <th>20</th>\n",
       "      <td>34.106676</td>\n",
       "      <td>San Dimas, California</td>\n",
       "      <td>-117.806726</td>\n",
       "      <td>garcia_2810</td>\n",
       "      <td>Football, beers, and wings all day</td>\n",
       "    </tr>\n",
       "    <tr>\n",
       "      <th>21</th>\n",
       "      <td>53.405472</td>\n",
       "      <td>Liverpool, England</td>\n",
       "      <td>-2.980539</td>\n",
       "      <td>thegoon65</td>\n",
       "      <td>Strange don't you think that NOBODY at the clu...</td>\n",
       "    </tr>\n",
       "    <tr>\n",
       "      <th>22</th>\n",
       "      <td>30.086124</td>\n",
       "      <td>G71</td>\n",
       "      <td>31.646095</td>\n",
       "      <td>67_Paddy</td>\n",
       "      <td>@josephtonner67 I can’t speak for pre December...</td>\n",
       "    </tr>\n",
       "    <tr>\n",
       "      <th>24</th>\n",
       "      <td>42.886717</td>\n",
       "      <td>Buffalo NY</td>\n",
       "      <td>-78.878392</td>\n",
       "      <td>joemillerwired</td>\n",
       "      <td>@AmazingGrace003 @mltrickey McDermott and Fraz...</td>\n",
       "    </tr>\n",
       "    <tr>\n",
       "      <th>26</th>\n",
       "      <td>9.600036</td>\n",
       "      <td>Nigeria</td>\n",
       "      <td>7.999972</td>\n",
       "      <td>fixed_jeff</td>\n",
       "      <td>*SUPER SUNDAY IS HERE AGAIN*‼️‼️ \\n\\n*are you ...</td>\n",
       "    </tr>\n",
       "    <tr>\n",
       "      <th>28</th>\n",
       "      <td>51.053423</td>\n",
       "      <td>Calgary, Alberta</td>\n",
       "      <td>-114.062589</td>\n",
       "      <td>CraigLoewen</td>\n",
       "      <td>Trying to figure out what to do with Tyler Loc...</td>\n",
       "    </tr>\n",
       "    <tr>\n",
       "      <th>29</th>\n",
       "      <td>40.583456</td>\n",
       "      <td>Staten Island, NY</td>\n",
       "      <td>-74.149605</td>\n",
       "      <td>Donbuck32</td>\n",
       "      <td>$4.80 exacta in 1st at aqueduct time to watch ...</td>\n",
       "    </tr>\n",
       "    <tr>\n",
       "      <th>30</th>\n",
       "      <td>53.479130</td>\n",
       "      <td>Manchester, England</td>\n",
       "      <td>-2.244101</td>\n",
       "      <td>Realist_187</td>\n",
       "      <td>“Go have a look at the book, we’ve got differe...</td>\n",
       "    </tr>\n",
       "    <tr>\n",
       "      <th>31</th>\n",
       "      <td>30.048819</td>\n",
       "      <td>Cairo, Egypt</td>\n",
       "      <td>31.243666</td>\n",
       "      <td>Hatem1886Gooner</td>\n",
       "      <td>Arsenal fans living in London must have a go o...</td>\n",
       "    </tr>\n",
       "    <tr>\n",
       "      <th>32</th>\n",
       "      <td>30.384088</td>\n",
       "      <td>Warrington, FL</td>\n",
       "      <td>-87.274972</td>\n",
       "      <td>sharonlovesjohn</td>\n",
       "      <td>@JohnLegere @Apple @StaneffMatt It was footbal...</td>\n",
       "    </tr>\n",
       "    <tr>\n",
       "      <th>34</th>\n",
       "      <td>39.783730</td>\n",
       "      <td>United States</td>\n",
       "      <td>-100.445882</td>\n",
       "      <td>CSNews2019</td>\n",
       "      <td>Sources: Former Giants CB Janoris Jenkins expe...</td>\n",
       "    </tr>\n",
       "    <tr>\n",
       "      <th>35</th>\n",
       "      <td>31.760037</td>\n",
       "      <td>El Paso</td>\n",
       "      <td>-106.487287</td>\n",
       "      <td>TacThaMAC_</td>\n",
       "      <td>Just ran into of my old football coaches from ...</td>\n",
       "    </tr>\n",
       "    <tr>\n",
       "      <th>36</th>\n",
       "      <td>58.099103</td>\n",
       "      <td>Hollywood North</td>\n",
       "      <td>6.727323</td>\n",
       "      <td>cartoon_gurlz</td>\n",
       "      <td>SweetSera @SweetSera333 is DEFINITELY ready fo...</td>\n",
       "    </tr>\n",
       "    <tr>\n",
       "      <th>37</th>\n",
       "      <td>-1.283253</td>\n",
       "      <td>Nairobi, Kenya</td>\n",
       "      <td>36.817245</td>\n",
       "      <td>Fadhilow</td>\n",
       "      <td>The worst first half of football in Arsenal hi...</td>\n",
       "    </tr>\n",
       "    <tr>\n",
       "      <th>39</th>\n",
       "      <td>6.333059</td>\n",
       "      <td>Benin-City, Nigeria</td>\n",
       "      <td>5.622106</td>\n",
       "      <td>footbazz</td>\n",
       "      <td>K. De Bruyne Goal vs Arsenal In HD | Football ...</td>\n",
       "    </tr>\n",
       "    <tr>\n",
       "      <th>40</th>\n",
       "      <td>39.783730</td>\n",
       "      <td>United States</td>\n",
       "      <td>-100.445882</td>\n",
       "      <td>sn_nfl</td>\n",
       "      <td>Bills vs. Steelers odds, prediction, betting t...</td>\n",
       "    </tr>\n",
       "    <tr>\n",
       "      <th>41</th>\n",
       "      <td>37.323011</td>\n",
       "      <td>Cupertino, CA</td>\n",
       "      <td>-122.032252</td>\n",
       "      <td>Colbybruin</td>\n",
       "      <td>@garywhitta @Arsenal Not just Arsenal. Think a...</td>\n",
       "    </tr>\n",
       "    <tr>\n",
       "      <th>43</th>\n",
       "      <td>25.223228</td>\n",
       "      <td>United Kingdom</td>\n",
       "      <td>55.159493</td>\n",
       "      <td>netfooty</td>\n",
       "      <td>⚽🇳🇱 That should win it! Myron Boadu scores for...</td>\n",
       "    </tr>\n",
       "    <tr>\n",
       "      <th>44</th>\n",
       "      <td>57.148228</td>\n",
       "      <td>Aberdeen, Scotland</td>\n",
       "      <td>-2.092678</td>\n",
       "      <td>Annan_rides_out</td>\n",
       "      <td>@caitoz 2) The rot leads to the top. If OPCW i...</td>\n",
       "    </tr>\n",
       "    <tr>\n",
       "      <th>45</th>\n",
       "      <td>27.756767</td>\n",
       "      <td>Florida</td>\n",
       "      <td>-81.463983</td>\n",
       "      <td>MillerStrong12</td>\n",
       "      <td>Football Action today, let's enjoy it Football...</td>\n",
       "    </tr>\n",
       "    <tr>\n",
       "      <th>46</th>\n",
       "      <td>53.405472</td>\n",
       "      <td>Liverpool</td>\n",
       "      <td>-2.980539</td>\n",
       "      <td>willsavillelfc</td>\n",
       "      <td>@SkySportsPL Klopp has been playing his own br...</td>\n",
       "    </tr>\n",
       "    <tr>\n",
       "      <th>47</th>\n",
       "      <td>50.833461</td>\n",
       "      <td>European Tour</td>\n",
       "      <td>4.358837</td>\n",
       "      <td>leetxmlin</td>\n",
       "      <td>How’s Kolasinac more scared of a football then...</td>\n",
       "    </tr>\n",
       "    <tr>\n",
       "      <th>48</th>\n",
       "      <td>39.783730</td>\n",
       "      <td>United States</td>\n",
       "      <td>-100.445882</td>\n",
       "      <td>JoeBucki18</td>\n",
       "      <td>@shickey80 @Brownswave Yes, college football c...</td>\n",
       "    </tr>\n",
       "    <tr>\n",
       "      <th>49</th>\n",
       "      <td>42.344044</td>\n",
       "      <td>ALBANY — BOSTON</td>\n",
       "      <td>-71.062069</td>\n",
       "      <td>ByDylanRossiter</td>\n",
       "      <td>Newtown wins football state championship with ...</td>\n",
       "    </tr>\n",
       "  </tbody>\n",
       "</table>\n",
       "</div>"
      ],
      "text/plain": [
       "     latitude                location   longitude      screen_name  \\\n",
       "0   51.507322         London, England   -0.127647       theukdukes   \n",
       "1   39.783730           United States -100.445882       USAFightTV   \n",
       "2   55.931967  Edinburgh, Auld Reekie   -3.172884   footballbarber   \n",
       "3   39.783730           United States -100.445882       USAFightTV   \n",
       "4   33.520682     Birmingham, Alabama  -86.802433     ANormalFlame   \n",
       "5   36.033173        Las Vegas, Earth -115.299284  ACESANDALESTENA   \n",
       "6   39.783730           United States -100.445882       USAFightTV   \n",
       "7    1.357107               Singapore  103.819499    faizalmuhd072   \n",
       "8   20.272324        Lagos | PH | FT   100.415179       D_WarEagle   \n",
       "9    6.698081           Kumasi, Ghana   -1.623040  IRESPECTPERSON1   \n",
       "10  53.405472      Liverpool, England   -2.980539      bluemac1975   \n",
       "11  35.472989       Oklahoma City, OK  -97.517054   BrewersUnionOK   \n",
       "12   9.600036                 Nigeria    7.999972        cute_posh   \n",
       "13  39.783730           United States -100.445882       USAFightTV   \n",
       "15  55.949563     Edinburgh, Scotland   -3.191497      Alexsherry_   \n",
       "18  39.049011              Topeka, KS  -95.677556       bdramsey33   \n",
       "19  52.707887          Shrewsbury, UK   -2.754009      citizenshed   \n",
       "20  34.106676   San Dimas, California -117.806726      garcia_2810   \n",
       "21  53.405472      Liverpool, England   -2.980539        thegoon65   \n",
       "22  30.086124                     G71   31.646095         67_Paddy   \n",
       "24  42.886717             Buffalo NY   -78.878392   joemillerwired   \n",
       "26   9.600036                 Nigeria    7.999972       fixed_jeff   \n",
       "28  51.053423        Calgary, Alberta -114.062589      CraigLoewen   \n",
       "29  40.583456       Staten Island, NY  -74.149605        Donbuck32   \n",
       "30  53.479130     Manchester, England   -2.244101      Realist_187   \n",
       "31  30.048819            Cairo, Egypt   31.243666  Hatem1886Gooner   \n",
       "32  30.384088          Warrington, FL  -87.274972  sharonlovesjohn   \n",
       "34  39.783730           United States -100.445882       CSNews2019   \n",
       "35  31.760037                 El Paso -106.487287       TacThaMAC_   \n",
       "36  58.099103         Hollywood North    6.727323    cartoon_gurlz   \n",
       "37  -1.283253          Nairobi, Kenya   36.817245         Fadhilow   \n",
       "39   6.333059     Benin-City, Nigeria    5.622106         footbazz   \n",
       "40  39.783730           United States -100.445882           sn_nfl   \n",
       "41  37.323011           Cupertino, CA -122.032252       Colbybruin   \n",
       "43  25.223228          United Kingdom   55.159493         netfooty   \n",
       "44  57.148228      Aberdeen, Scotland   -2.092678  Annan_rides_out   \n",
       "45  27.756767                 Florida  -81.463983   MillerStrong12   \n",
       "46  53.405472               Liverpool   -2.980539   willsavillelfc   \n",
       "47  50.833461           European Tour    4.358837        leetxmlin   \n",
       "48  39.783730           United States -100.445882       JoeBucki18   \n",
       "49  42.344044         ALBANY — BOSTON  -71.062069  ByDylanRossiter   \n",
       "\n",
       "                                                 text  \n",
       "0   If you're an athlete or coach, and want to imp...  \n",
       "1   [Official/Football] Eagles vs Redskins Live sT...  \n",
       "2   Banner?\\n\\n'A Football Club will be formed for...  \n",
       "3   [Official/Football] Texans vs Titans Live sTre...  \n",
       "4   Congrats Joe Burrow. Coach O is great for @LSU...  \n",
       "5   @NFL Football Hoppy Hour for all #NFL Games!! ...  \n",
       "6   [Official/Football] Dolpĥins vs Giants Live sT...  \n",
       "7   Damn #KDB... I did not know prior to this game...  \n",
       "8   But why Arsenal allow Pepe play this game? The...  \n",
       "9   @thenanaaba This woman like football koraa dod...  \n",
       "10  @DockMoore Such a refreshing interview in mode...  \n",
       "11  It's a beautiful day for football, beer and fr...  \n",
       "12  @nancygreeny @volqx Extend same energy to WIZK...  \n",
       "13  [Official/Football] Broncos vs Chiefs Live sTr...  \n",
       "15  So obv when people r trying to put a shift in ...  \n",
       "18  Stellar hire by @TexasFootball. Now we wait fo...  \n",
       "19  Is the hatred for City such that they would fo...  \n",
       "20                 Football, beers, and wings all day  \n",
       "21  Strange don't you think that NOBODY at the clu...  \n",
       "22  @josephtonner67 I can’t speak for pre December...  \n",
       "24  @AmazingGrace003 @mltrickey McDermott and Fraz...  \n",
       "26  *SUPER SUNDAY IS HERE AGAIN*‼️‼️ \\n\\n*are you ...  \n",
       "28  Trying to figure out what to do with Tyler Loc...  \n",
       "29  $4.80 exacta in 1st at aqueduct time to watch ...  \n",
       "30  “Go have a look at the book, we’ve got differe...  \n",
       "31  Arsenal fans living in London must have a go o...  \n",
       "32  @JohnLegere @Apple @StaneffMatt It was footbal...  \n",
       "34  Sources: Former Giants CB Janoris Jenkins expe...  \n",
       "35  Just ran into of my old football coaches from ...  \n",
       "36  SweetSera @SweetSera333 is DEFINITELY ready fo...  \n",
       "37  The worst first half of football in Arsenal hi...  \n",
       "39  K. De Bruyne Goal vs Arsenal In HD | Football ...  \n",
       "40  Bills vs. Steelers odds, prediction, betting t...  \n",
       "41  @garywhitta @Arsenal Not just Arsenal. Think a...  \n",
       "43  ⚽🇳🇱 That should win it! Myron Boadu scores for...  \n",
       "44  @caitoz 2) The rot leads to the top. If OPCW i...  \n",
       "45  Football Action today, let's enjoy it Football...  \n",
       "46  @SkySportsPL Klopp has been playing his own br...  \n",
       "47  How’s Kolasinac more scared of a football then...  \n",
       "48  @shickey80 @Brownswave Yes, college football c...  \n",
       "49  Newtown wins football state championship with ...  "
      ]
     },
     "execution_count": 57,
     "metadata": {},
     "output_type": "execute_result"
    }
   ],
   "source": [
    "df"
   ]
  },
  {
   "cell_type": "markdown",
   "metadata": {},
   "source": [
    "<hr style=\"height:2px; border:none; color:#000; background-color:#000;\">"
   ]
  },
  {
   "cell_type": "markdown",
   "metadata": {},
   "source": [
    "### Creating a Map with Folium"
   ]
  },
  {
   "cell_type": "code",
   "execution_count": 58,
   "metadata": {},
   "outputs": [],
   "source": [
    "import folium"
   ]
  },
  {
   "cell_type": "code",
   "execution_count": 59,
   "metadata": {},
   "outputs": [],
   "source": [
    "usmap = folium.Map(location=[39.8283, -98.5795],  # center of U.S.\n",
    "                   tiles='Stamen Terrain',\n",
    "                   zoom_start=4, detect_retina=True)"
   ]
  },
  {
   "cell_type": "markdown",
   "metadata": {},
   "source": [
    "* **`location`** &mdash; sequence containing **latitude** and **longitude** of **map center point**\n",
    "    * [Geographic center of the continental United States](http://bit.ly/CenterOfTheUS) \n",
    "* **`zoom_start`** &mdash; **map’s initial zoom level**\n",
    "* **`detect_retina`** &mdash; enables folium to use **higher-resolution maps**"
   ]
  },
  {
   "cell_type": "markdown",
   "metadata": {},
   "source": [
    "<hr style=\"height:2px; border:none; color:#000; background-color:#000;\">"
   ]
  },
  {
   "cell_type": "markdown",
   "metadata": {},
   "source": [
    "### Creating Folium `Popup` Objects for the Tweet Locations\n",
    "* **`itertuples`** creates **tuples** from **each row** of the **`DataFrame`**\n",
    "* Each **tuple** contains a **property** for each **`DataFrame` column**"
   ]
  },
  {
   "cell_type": "code",
   "execution_count": 60,
   "metadata": {},
   "outputs": [],
   "source": [
    "for t in df.itertuples():\n",
    "    text = ': '.join([t.screen_name, t.text])\n",
    "    popup = folium.Popup(text)\n",
    "    marker = folium.Marker((t.latitude, t.longitude), \n",
    "                           popup=popup)\n",
    "    marker.add_to(usmap)"
   ]
  },
  {
   "cell_type": "markdown",
   "metadata": {},
   "source": [
    "<hr style=\"height:2px; border:none; color:#000; background-color:#000;\">"
   ]
  },
  {
   "cell_type": "markdown",
   "metadata": {},
   "source": [
    "### Saving the Map with Map’s **`save`** Method "
   ]
  },
  {
   "cell_type": "code",
   "execution_count": 61,
   "metadata": {},
   "outputs": [],
   "source": [
    "usmap.save('tweet_map.html')"
   ]
  },
  {
   "cell_type": "markdown",
   "metadata": {},
   "source": [
    "<hr style=\"height:2px; border:none; color:#000; background-color:#000;\">"
   ]
  },
  {
   "cell_type": "markdown",
   "metadata": {},
   "source": [
    "### Displaying the Map in Jupyter \n",
    "* The resulting map follows. \n",
    "<a href=\"./tweet_map.html\">Interactive tweet map</a>"
   ]
  },
  {
   "cell_type": "code",
   "execution_count": 62,
   "metadata": {},
   "outputs": [
    {
     "data": {
      "text/html": [
       "<div style=\"width:100%;\"><div style=\"position:relative;width:100%;height:0;padding-bottom:60%;\"><iframe src=\"data:text/html;charset=utf-8;base64,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\" style=\"position:absolute;width:100%;height:100%;left:0;top:0;border:none !important;\" allowfullscreen webkitallowfullscreen mozallowfullscreen></iframe></div></div>"
      ],
      "text/plain": [
       "<folium.folium.Map at 0x7fda4a520128>"
      ]
     },
     "execution_count": 62,
     "metadata": {},
     "output_type": "execute_result"
    }
   ],
   "source": [
    "usmap"
   ]
  },
  {
   "cell_type": "markdown",
   "metadata": {},
   "source": [
    "<!--\n",
    "#from IPython.display import IFrame\n",
    "#IFrame(src=\"./tweet_map.html\", width=800, height=450)\n",
    "-->"
   ]
  },
  {
   "cell_type": "markdown",
   "metadata": {},
   "source": [
    "<hr style=\"height:2px; border:none; color:#000; background-color:#000;\">"
   ]
  },
  {
   "cell_type": "markdown",
   "metadata": {},
   "source": [
    "## Utility Functions\n",
    "See the following for details: \n",
    "* [**Python Fundamentals LiveLessons video**](https://learning.oreilly.com/videos/python-fundamentals/9780135917411/9780135917411-PFLL_Lesson12_26) \n",
    "* [Sections 12.5.2-12.5.3 in **Python for Programmers**](https://learning.oreilly.com/library/view/python-for-programmers/9780135231364/ch12.xhtml#ch12lev2sec10)\n",
    "\n",
    "### `get_tweet_content` Utility Function (2 of 2)\n",
    "```python\n",
    "def get_tweet_content(tweet, location=False):\n",
    "    \"\"\"Return dictionary with data from tweet (a Status object).\"\"\"\n",
    "    fields = {}\n",
    "    fields['screen_name'] = tweet.user.screen_name\n",
    "\n",
    "    # get the tweet's text\n",
    "    try:  \n",
    "        fields['text'] = tweet.extended_tweet[\"full_text\"]\n",
    "    except: \n",
    "        fields['text'] = tweet.text\n",
    "\n",
    "    if location:\n",
    "        fields['location'] = tweet.user.location\n",
    "\n",
    "    return fields\n",
    "\n",
    "```"
   ]
  },
  {
   "cell_type": "markdown",
   "metadata": {},
   "source": [
    "<hr style=\"height:2px; border:none; color:#000; background-color:#000;\">"
   ]
  },
  {
   "cell_type": "markdown",
   "metadata": {},
   "source": [
    "### `get_geocodes` Utility Function (1 of 3)\n",
    "* Receives a **list of dictionaries** containing tweets and **geocodes their locations**\n",
    "* If **geocoding** is **successful** for a tweet, adds the **latitude** and **longitude** to the tweet’s **dictionary in `tweet_list`**\n",
    "* Requires class **`OpenMapQuest`** from the **geopy module**"
   ]
  },
  {
   "cell_type": "markdown",
   "metadata": {},
   "source": [
    "<hr style=\"height:2px; border:none; color:#000; background-color:#000;\">"
   ]
  },
  {
   "cell_type": "markdown",
   "metadata": {},
   "source": [
    "### `get_geocodes` Utility Function (2 of 3)\n",
    "```python\n",
    "from geopy import OpenMapQuest\n",
    "```\n",
    "\n",
    "```python\n",
    "def get_geocodes(tweet_list):\n",
    "    \"\"\"Get the latitude and longitude for each tweet's location.\n",
    "    Returns the number of tweets with invalid location data.\"\"\"\n",
    "    print('Getting coordinates for tweet locations...')\n",
    "    geo = OpenMapQuest(api_key=keys.mapquest_key)  # geocoder\n",
    "    bad_locations = 0  \n",
    "\n",
    "    for tweet in tweet_list:\n",
    "        processed = False\n",
    "        delay = .1  # used if OpenMapQuest times out to delay next call\n",
    "        while not processed:\n",
    "            try:  # get coordinates for tweet['location']\n",
    "                geo_location = geo.geocode(tweet['location'])\n",
    "                processed = True\n",
    "            except:  # timed out, so wait before trying again\n",
    "                print('OpenMapQuest service timed out. Waiting.')\n",
    "                time.sleep(delay)\n",
    "                delay += .1\n",
    "\n",
    "        if geo_location:  \n",
    "            tweet['latitude'] = geo_location.latitude\n",
    "            tweet['longitude'] = geo_location.longitude\n",
    "        else:  \n",
    "            bad_locations += 1  # tweet['location'] was invalid\n",
    "    \n",
    "    print('Done geocoding')\n",
    "    return bad_locations\n",
    "\n",
    "```"
   ]
  },
  {
   "cell_type": "markdown",
   "metadata": {},
   "source": [
    "<hr style=\"height:2px; border:none; color:#000; background-color:#000;\">"
   ]
  },
  {
   "cell_type": "markdown",
   "metadata": {},
   "source": [
    "## 12.15.3 Class `LocationListener`\n",
    "```python\n",
    "# locationlistener.py\n",
    "\"\"\"Receives tweets matching a search string and stores a list of\n",
    "dictionaries containing each tweet's screen_name/text/location.\"\"\"\n",
    "import tweepy\n",
    "from tweetutilities import get_tweet_content\n",
    "from IPython.display import clear_output\n",
    "\n",
    "class LocationListener(tweepy.StreamListener):\n",
    "    \"\"\"Handles incoming Tweet stream to get location data.\"\"\"\n",
    "```"
   ]
  },
  {
   "cell_type": "markdown",
   "metadata": {},
   "source": [
    "```python\n",
    "    def __init__(self, api, counts_dict, tweets_list, topic, limit=10):\n",
    "        \"\"\"Configure the LocationListener.\"\"\"\n",
    "        self.tweets_list = tweets_list\n",
    "        self.counts_dict = counts_dict\n",
    "        self.topic = topic\n",
    "        self.TWEET_LIMIT = limit\n",
    "        super().__init__(api)  # call superclass's init\n",
    "```"
   ]
  },
  {
   "cell_type": "markdown",
   "metadata": {},
   "source": [
    "```python\n",
    "    def on_status(self, status):\n",
    "        \"\"\"Called when Twitter pushes a new tweet to you.\"\"\"\n",
    "        # get each tweet's screen_name, text and location\n",
    "        tweet_data = get_tweet_content(status, location=True)  \n",
    "\n",
    "        # ignore retweets and tweets that do not contain the topic\n",
    "        if (tweet_data['text'].startswith('RT') or\n",
    "            self.topic.lower() not in tweet_data['text'].lower()):\n",
    "            return\n",
    "\n",
    "        self.counts_dict['total_tweets'] += 1  # original tweet\n",
    "\n",
    "        # ignore tweets with no location \n",
    "        if not status.user.location:  \n",
    "            return\n",
    "\n",
    "        self.counts_dict['locations'] += 1  # tweet with location\n",
    "        self.tweets_list.append(tweet_data)  # store the tweet\n",
    "        clear_output()\n",
    "        print(f'{status.user.screen_name}: {tweet_data[\"text\"]}\\n')\n",
    "        \n",
    "        # if TWEET_LIMIT is reached, return False to terminate streaming\n",
    "        return self.counts_dict['locations'] < self.TWEET_LIMIT\n",
    "\n",
    "```"
   ]
  },
  {
   "cell_type": "markdown",
   "metadata": {},
   "source": [
    "<hr style=\"height:2px; border:none; color:#000; background-color:#000;\">"
   ]
  },
  {
   "cell_type": "markdown",
   "metadata": {},
   "source": [
    "# More Info \n",
    "* See **Lesson 12** in [**Python Fundamentals LiveLessons** here on Safari Online Learning](https://learning.oreilly.com/videos/python-fundamentals/9780135917411)\n",
    "* See **Chapter 12** in [**Python for Programmers** on Safari Online Learning](https://learning.oreilly.com/library/view/python-for-programmers/9780135231364/)\n",
    "* See Chapter 13 in **Intro Python for Computer Science and Data Science** on [VitalSource.com](https://www.vitalsource.com/products/intro-to-python-for-computer-science-and-data-paul-j-deitel-harvey-deitel-v9780135404812) or [RedShelf.com](https://redshelf.com/book/1157786/intro-to-python-for-computer-science-and-data-science-1157786-9780135404812-paul-j-deitel-harvey-deitel)\n",
    "* Interested in a print book? Check out:\n",
    "\n",
    "| Python for Programmers | Intro to Python for Computer<br>Science and Data Science\n",
    "| :------ | :------\n",
    "| <a href=\"https://amzn.to/2VvdnxE\"><img alt=\"Python for Programmers cover\" src=\"../images/PyFPCover.png\" width=\"150\" border=\"1\"/></a> | <a href=\"https://amzn.to/2LiDCmt\"><img alt=\"Intro to Python for Computer Science and Data Science: Learning to Program with AI, Big Data and the Cloud\" src=\"../images/IntroToPythonCover.png\" width=\"159\" border=\"1\"></a>\n",
    "\n",
    ">Please **do not** purchase both books&mdash;_Python for Programmers_ is a subset of _Intro to Python for Computer Science and Data Science_"
   ]
  },
  {
   "cell_type": "markdown",
   "metadata": {},
   "source": [
    "&copy; 2019 by Pearson Education, Inc. All Rights Reserved. The content in this notebook is based on the book [**Python for Programmers**](https://amzn.to/2VvdnxE)."
   ]
  }
 ],
 "metadata": {
  "kernelspec": {
   "display_name": "Python 3",
   "language": "python",
   "name": "python3"
  },
  "language_info": {
   "codemirror_mode": {
    "name": "ipython",
    "version": 3
   },
   "file_extension": ".py",
   "mimetype": "text/x-python",
   "name": "python",
   "nbconvert_exporter": "python",
   "pygments_lexer": "ipython3",
   "version": "3.7.3"
  }
 },
 "nbformat": 4,
 "nbformat_minor": 4
}
